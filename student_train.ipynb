{
 "cells": [
  {
   "cell_type": "code",
   "execution_count": 2,
   "id": "c954df64-1e9a-4287-af13-94db99d1858e",
   "metadata": {},
   "outputs": [
    {
     "name": "stdout",
     "output_type": "stream",
     "text": [
      "importing Jupyter notebook from /home/u2022171199/jupyterlab/KDtest/model/resnet_l.ipynb\n"
     ]
    }
   ],
   "source": [
    "import torch.optim as optim\n",
    "import torch\n",
    "import torch.nn as nn\n",
    "import torch.nn.parallel\n",
    "import torch.utils.data\n",
    "import torch.utils.data.distributed\n",
    "import torchvision.transforms as transforms\n",
    "import import_ipynb\n",
    "from torchvision import datasets\n",
    "from torch.autograd import Variable\n",
    "from model.resnet import ResNet18\n",
    "from model.resnet_l import ResNet50\n",
    "\n",
    "import json\n",
    "import os"
   ]
  },
  {
   "cell_type": "code",
   "execution_count": 3,
   "id": "85f72ad2-77cb-41fe-8977-22a5ed7438fd",
   "metadata": {},
   "outputs": [],
   "source": [
    "import Ranger\n",
    "from tqdm import tqdm\n",
    "import numpy as np\n",
    "from matplotlib import pyplot as plt\n",
    "import timm\n",
    "from torchinfo import summary #打印网络模型各层信息的库"
   ]
  },
  {
   "cell_type": "code",
   "execution_count": 4,
   "id": "d6625c5a-499c-48ab-90b4-447f019c76c6",
   "metadata": {},
   "outputs": [],
   "source": [
    "def get_dataloader(train_dir, val_dir, batch_size):\n",
    "    transform = transforms.Compose([\n",
    "        transforms.RandomRotation(10),\n",
    "        transforms.GaussianBlur(kernel_size=(5, 5), sigma=(0.1, 3.0)),\n",
    "        transforms.ColorJitter(brightness=0.5, contrast=0.5, saturation=0.5),\n",
    "        transforms.Resize((224, 224)),\n",
    "        transforms.ToTensor(),\n",
    "        transforms.Normalize(mean=[0.44127703, 0.4712498, 0.43714803], std=[0.18507297, 0.18050247, 0.16784933])\n",
    "    ])\n",
    "    \n",
    "    transform_test = transforms.Compose([\n",
    "        transforms.Resize((224, 224)),\n",
    "        transforms.ToTensor(),\n",
    "        transforms.Normalize(mean=[0.44127703, 0.4712498, 0.43714803], std=[0.18507297, 0.18050247, 0.16784933])\n",
    "    ])\n",
    "\n",
    "    dataset_train = datasets.ImageFolder(train_dir, transform=transform)\n",
    "    dataset_test = datasets.ImageFolder(val_dir, transform=transform_test)\n",
    "    with open('class.txt', 'w', encoding='utf-8') as file:\n",
    "        file.write(str(dataset_train.class_to_idx))\n",
    "    with open('class.json', 'w', encoding='utf-8') as file:\n",
    "        file.write(json.dumps(dataset_train.class_to_idx))\n",
    "    train_loader = torch.utils.data.DataLoader(dataset_train, batch_size = batch_size, shuffle=True)\n",
    "    test_loader = torch.utils.data.DataLoader(dataset_test, batch_size = batch_size, shuffle=False)\n",
    "    return train_loader,test_loader"
   ]
  },
  {
   "cell_type": "code",
   "execution_count": 25,
   "id": "8bb230c4-4718-472f-9b35-19ce04158bc4",
   "metadata": {},
   "outputs": [],
   "source": [
    "def train(model, train_dataloader, test_dataloader, \n",
    "          device, batch_size, num_epoch, learning_rate, criterion,  optim, init=False, scheduler_type='Cosine'):\n",
    "    def init_xavier(m):\n",
    "        if type(m) == nn.Linear:\n",
    "            nn.init.xavier_normal_(m.weight)\n",
    "    \n",
    "    if init:\n",
    "        net.apply(init_xavier)\n",
    "    \n",
    "    print('trainning on:', device)\n",
    "    model.to(device)\n",
    "    \n",
    "    if optim == 'sgd':\n",
    "        optimizer = torch.optim.SGD(model.parameters(), lr = learning_rate)\n",
    "    if optim == 'adam':\n",
    "        optimizer = torch.optim.Adam(model.parameters(), lr = learning_rate)\n",
    "    if optim == 'adamW':\n",
    "        optimizer = torch.optim.AdamW(model.parameters(), lr = learning_rate)\n",
    "    else:\n",
    "        optimizer = torch.optim.Adam(model.parameters(), lr = learning_rate)\n",
    "    if scheduler_type == 'Cosine':\n",
    "        scheduler = torch.optim.lr_scheduler.CosineAnnealingLR(optimizer=optimizer, T_max=20,eta_min=1e-9)\n",
    "        \n",
    "    train_losses = []\n",
    "    train_acces = []\n",
    "    eval_acces = []\n",
    "    best_acc = 0.0\n",
    "    \n",
    "    for epoch in range(1, num_epoch+1):\n",
    "        print(\"——————第 {} 轮训练开始——————\".format(epoch))\n",
    "        model.train()\n",
    "        total_correct = 0\n",
    "        total_loss = 0\n",
    "        for  (data, target) in tqdm(train_dataloader, desc = 'trainning'):\n",
    "            data, target = data.to(device), target.to(device)\n",
    "            _, _, _, _, _, out = model(data)\n",
    "            loss = criterion(out, target)\n",
    "            optimizer.zero_grad()\n",
    "            loss.backward()\n",
    "            optimizer.step()\n",
    "            \n",
    "            total_loss += loss.data.item()\n",
    "            _, pred = torch.max(out.data, 1)\n",
    "            total_correct += torch.sum(pred==target).item()\n",
    "        avg_loss = total_loss / len(train_dataloader)\n",
    "        accuracy = total_correct / len(train_dataloader.dataset)\n",
    "        print('Epoch: {}, test_loss: {:.4f}, train_accuracy: {}/{} ({:.0f}%)'.format(epoch,\n",
    "            avg_loss, total_correct, len(train_dataloader.dataset), 100 * accuracy))\n",
    "        train_acces.append(accuracy)\n",
    "        train_losses.append(avg_loss)\n",
    "        scheduler.step()\n",
    "        \n",
    "        #验证以及测试步骤\n",
    "        model.eval()\n",
    "        total_correct = 0\n",
    "        total_loss = 0\n",
    "        with torch.no_grad():\n",
    "            for data, target in test_dataloader:\n",
    "                data, target = data.to(device), target.to(device)\n",
    "                _, _, _, _, _, out = model(data)\n",
    "                loss = criterion(out, target)\n",
    "                _,pred = torch.max(out.data, 1)\n",
    "                total_correct += torch.sum(pred == target).item()\n",
    "                total_loss += loss.data.item()\n",
    "            avg_loss = total_loss / len(test_dataloader)\n",
    "            accuracy = total_correct / len(test_dataloader.dataset)\n",
    "            if accuracy > best_acc:\n",
    "                best_acc = accuracy\n",
    "                torch.save(model.state_dict(), file_dir + '/' +'_best.pth')\n",
    "            eval_acces.append(accuracy)\n",
    "            print('Epoch: {}, test_loss: {:.4f}, test_accuracy: {}/{} ({:.0f}%)\\n'.format(epoch,\n",
    "            avg_loss, total_correct, len(test_dataloader.dataset), 100 * accuracy))\n",
    "    return train_losses, train_acces, eval_acces"
   ]
  },
  {
   "cell_type": "code",
   "execution_count": 16,
   "id": "c451b113-f67d-40d9-92c3-e678fe845521",
   "metadata": {},
   "outputs": [],
   "source": [
    "if __name__ == '__main__':\n",
    "    file_dir = 'studentNet'\n",
    "    if not os.path.isdir(file_dir):\n",
    "        os.makedirs(file_dir)\n",
    "    train_dir = './data/train'\n",
    "    test_dir = './data/val'\n",
    "    train_dataloader,test_dataloader = get_dataloader(train_dir,test_dir,batch_size=64)\n",
    "    "
   ]
  },
  {
   "cell_type": "code",
   "execution_count": 20,
   "id": "cbeb6dfe-e0c3-434e-b657-0f221181f0c9",
   "metadata": {},
   "outputs": [],
   "source": [
    "    learning_rate = 1e-4\n",
    "    batch_size = 64\n",
    "    epoch = 100\n",
    "    device = torch.device(\"cuda:0\" if torch.cuda.is_available() else \"cpu\")\n",
    "    optimizer = 'adam'"
   ]
  },
  {
   "cell_type": "code",
   "execution_count": 21,
   "id": "cbdf01ac-1a44-4e91-b554-847b5b53497b",
   "metadata": {},
   "outputs": [],
   "source": [
    "    model = ResNet18()\n",
    "    model.fc = nn.Linear(model.fc.in_features,12)\n",
    "    criterion = nn.CrossEntropyLoss()"
   ]
  },
  {
   "cell_type": "code",
   "execution_count": 24,
   "id": "98858fc8-d3c8-4188-9afb-0ff105a06a0c",
   "metadata": {},
   "outputs": [
    {
     "name": "stdout",
     "output_type": "stream",
     "text": [
      "trainning on: cuda:0\n",
      "——————第 1 轮训练开始——————\n"
     ]
    },
    {
     "name": "stderr",
     "output_type": "stream",
     "text": [
      "trainning: 100%|██████████| 62/62 [01:45<00:00,  1.70s/it]\n"
     ]
    },
    {
     "name": "stdout",
     "output_type": "stream",
     "text": [
      "Epoch: 1, test_loss: 0.1913, train_accuracy: 3696/3961 (93%)\n",
      "Epoch: 1, test_loss: 1.0204, test_accuracy: 1146/1698 (67%)\n",
      "\n",
      "——————第 2 轮训练开始——————\n"
     ]
    },
    {
     "name": "stderr",
     "output_type": "stream",
     "text": [
      "trainning: 100%|██████████| 62/62 [01:49<00:00,  1.77s/it]\n"
     ]
    },
    {
     "name": "stdout",
     "output_type": "stream",
     "text": [
      "Epoch: 2, test_loss: 0.1718, train_accuracy: 3731/3961 (94%)\n",
      "Epoch: 2, test_loss: 1.9143, test_accuracy: 994/1698 (59%)\n",
      "\n",
      "——————第 3 轮训练开始——————\n"
     ]
    },
    {
     "name": "stderr",
     "output_type": "stream",
     "text": [
      "trainning: 100%|██████████| 62/62 [01:43<00:00,  1.68s/it]\n"
     ]
    },
    {
     "name": "stdout",
     "output_type": "stream",
     "text": [
      "Epoch: 3, test_loss: 0.1489, train_accuracy: 3746/3961 (95%)\n",
      "Epoch: 3, test_loss: 0.3907, test_accuracy: 1508/1698 (89%)\n",
      "\n",
      "——————第 4 轮训练开始——————\n"
     ]
    },
    {
     "name": "stderr",
     "output_type": "stream",
     "text": [
      "trainning: 100%|██████████| 62/62 [01:44<00:00,  1.68s/it]\n"
     ]
    },
    {
     "name": "stdout",
     "output_type": "stream",
     "text": [
      "Epoch: 4, test_loss: 0.1424, train_accuracy: 3778/3961 (95%)\n",
      "Epoch: 4, test_loss: 0.4152, test_accuracy: 1465/1698 (86%)\n",
      "\n",
      "——————第 5 轮训练开始——————\n"
     ]
    },
    {
     "name": "stderr",
     "output_type": "stream",
     "text": [
      "trainning: 100%|██████████| 62/62 [01:43<00:00,  1.67s/it]\n"
     ]
    },
    {
     "name": "stdout",
     "output_type": "stream",
     "text": [
      "Epoch: 5, test_loss: 0.1303, train_accuracy: 3794/3961 (96%)\n",
      "Epoch: 5, test_loss: 0.5049, test_accuracy: 1427/1698 (84%)\n",
      "\n",
      "——————第 6 轮训练开始——————\n"
     ]
    },
    {
     "name": "stderr",
     "output_type": "stream",
     "text": [
      "trainning: 100%|██████████| 62/62 [01:44<00:00,  1.69s/it]\n"
     ]
    },
    {
     "name": "stdout",
     "output_type": "stream",
     "text": [
      "Epoch: 6, test_loss: 0.1034, train_accuracy: 3836/3961 (97%)\n",
      "Epoch: 6, test_loss: 0.4737, test_accuracy: 1449/1698 (85%)\n",
      "\n",
      "——————第 7 轮训练开始——————\n"
     ]
    },
    {
     "name": "stderr",
     "output_type": "stream",
     "text": [
      "trainning: 100%|██████████| 62/62 [01:44<00:00,  1.68s/it]\n"
     ]
    },
    {
     "name": "stdout",
     "output_type": "stream",
     "text": [
      "Epoch: 7, test_loss: 0.1110, train_accuracy: 3825/3961 (97%)\n",
      "Epoch: 7, test_loss: 0.5387, test_accuracy: 1433/1698 (84%)\n",
      "\n",
      "——————第 8 轮训练开始——————\n"
     ]
    },
    {
     "name": "stderr",
     "output_type": "stream",
     "text": [
      "trainning: 100%|██████████| 62/62 [01:43<00:00,  1.67s/it]\n"
     ]
    },
    {
     "name": "stdout",
     "output_type": "stream",
     "text": [
      "Epoch: 8, test_loss: 0.0888, train_accuracy: 3865/3961 (98%)\n",
      "Epoch: 8, test_loss: 3.0960, test_accuracy: 659/1698 (39%)\n",
      "\n",
      "——————第 9 轮训练开始——————\n"
     ]
    },
    {
     "name": "stderr",
     "output_type": "stream",
     "text": [
      "trainning: 100%|██████████| 62/62 [01:44<00:00,  1.68s/it]\n"
     ]
    },
    {
     "name": "stdout",
     "output_type": "stream",
     "text": [
      "Epoch: 9, test_loss: 0.0664, train_accuracy: 3883/3961 (98%)\n",
      "Epoch: 9, test_loss: 0.3838, test_accuracy: 1509/1698 (89%)\n",
      "\n",
      "——————第 10 轮训练开始——————\n"
     ]
    },
    {
     "name": "stderr",
     "output_type": "stream",
     "text": [
      "trainning: 100%|██████████| 62/62 [01:43<00:00,  1.67s/it]\n"
     ]
    },
    {
     "name": "stdout",
     "output_type": "stream",
     "text": [
      "Epoch: 10, test_loss: 0.0621, train_accuracy: 3877/3961 (98%)\n",
      "Epoch: 10, test_loss: 0.5256, test_accuracy: 1485/1698 (87%)\n",
      "\n",
      "——————第 11 轮训练开始——————\n"
     ]
    },
    {
     "name": "stderr",
     "output_type": "stream",
     "text": [
      "trainning: 100%|██████████| 62/62 [01:43<00:00,  1.68s/it]\n"
     ]
    },
    {
     "name": "stdout",
     "output_type": "stream",
     "text": [
      "Epoch: 11, test_loss: 0.0474, train_accuracy: 3906/3961 (99%)\n",
      "Epoch: 11, test_loss: 0.3580, test_accuracy: 1531/1698 (90%)\n",
      "\n",
      "——————第 12 轮训练开始——————\n"
     ]
    },
    {
     "name": "stderr",
     "output_type": "stream",
     "text": [
      "trainning: 100%|██████████| 62/62 [01:44<00:00,  1.68s/it]\n"
     ]
    },
    {
     "name": "stdout",
     "output_type": "stream",
     "text": [
      "Epoch: 12, test_loss: 0.0423, train_accuracy: 3909/3961 (99%)\n",
      "Epoch: 12, test_loss: 0.2711, test_accuracy: 1579/1698 (93%)\n",
      "\n",
      "——————第 13 轮训练开始——————\n"
     ]
    },
    {
     "name": "stderr",
     "output_type": "stream",
     "text": [
      "trainning: 100%|██████████| 62/62 [01:43<00:00,  1.67s/it]\n"
     ]
    },
    {
     "name": "stdout",
     "output_type": "stream",
     "text": [
      "Epoch: 13, test_loss: 0.0393, train_accuracy: 3916/3961 (99%)\n",
      "Epoch: 13, test_loss: 0.2928, test_accuracy: 1563/1698 (92%)\n",
      "\n",
      "——————第 14 轮训练开始——————\n"
     ]
    },
    {
     "name": "stderr",
     "output_type": "stream",
     "text": [
      "trainning: 100%|██████████| 62/62 [01:43<00:00,  1.68s/it]\n"
     ]
    },
    {
     "name": "stdout",
     "output_type": "stream",
     "text": [
      "Epoch: 14, test_loss: 0.0353, train_accuracy: 3915/3961 (99%)\n",
      "Epoch: 14, test_loss: 0.3944, test_accuracy: 1540/1698 (91%)\n",
      "\n",
      "——————第 15 轮训练开始——————\n"
     ]
    },
    {
     "name": "stderr",
     "output_type": "stream",
     "text": [
      "trainning: 100%|██████████| 62/62 [01:43<00:00,  1.67s/it]\n"
     ]
    },
    {
     "name": "stdout",
     "output_type": "stream",
     "text": [
      "Epoch: 15, test_loss: 0.0338, train_accuracy: 3923/3961 (99%)\n",
      "Epoch: 15, test_loss: 0.2493, test_accuracy: 1580/1698 (93%)\n",
      "\n",
      "——————第 16 轮训练开始——————\n"
     ]
    },
    {
     "name": "stderr",
     "output_type": "stream",
     "text": [
      "trainning: 100%|██████████| 62/62 [01:43<00:00,  1.68s/it]\n"
     ]
    },
    {
     "name": "stdout",
     "output_type": "stream",
     "text": [
      "Epoch: 16, test_loss: 0.0188, train_accuracy: 3945/3961 (100%)\n",
      "Epoch: 16, test_loss: 0.2547, test_accuracy: 1583/1698 (93%)\n",
      "\n",
      "——————第 17 轮训练开始——————\n"
     ]
    },
    {
     "name": "stderr",
     "output_type": "stream",
     "text": [
      "trainning: 100%|██████████| 62/62 [01:43<00:00,  1.68s/it]\n"
     ]
    },
    {
     "name": "stdout",
     "output_type": "stream",
     "text": [
      "Epoch: 17, test_loss: 0.0152, train_accuracy: 3946/3961 (100%)\n",
      "Epoch: 17, test_loss: 0.2465, test_accuracy: 1586/1698 (93%)\n",
      "\n",
      "——————第 18 轮训练开始——————\n"
     ]
    },
    {
     "name": "stderr",
     "output_type": "stream",
     "text": [
      "trainning: 100%|██████████| 62/62 [01:42<00:00,  1.66s/it]\n"
     ]
    },
    {
     "name": "stdout",
     "output_type": "stream",
     "text": [
      "Epoch: 18, test_loss: 0.0134, train_accuracy: 3948/3961 (100%)\n",
      "Epoch: 18, test_loss: 0.2578, test_accuracy: 1582/1698 (93%)\n",
      "\n",
      "——————第 19 轮训练开始——————\n"
     ]
    },
    {
     "name": "stderr",
     "output_type": "stream",
     "text": [
      "trainning: 100%|██████████| 62/62 [01:43<00:00,  1.67s/it]\n"
     ]
    },
    {
     "name": "stdout",
     "output_type": "stream",
     "text": [
      "Epoch: 19, test_loss: 0.0137, train_accuracy: 3947/3961 (100%)\n",
      "Epoch: 19, test_loss: 0.2561, test_accuracy: 1583/1698 (93%)\n",
      "\n",
      "——————第 20 轮训练开始——————\n"
     ]
    },
    {
     "name": "stderr",
     "output_type": "stream",
     "text": [
      "trainning: 100%|██████████| 62/62 [01:43<00:00,  1.68s/it]\n"
     ]
    },
    {
     "name": "stdout",
     "output_type": "stream",
     "text": [
      "Epoch: 20, test_loss: 0.0116, train_accuracy: 3955/3961 (100%)\n",
      "Epoch: 20, test_loss: 0.2511, test_accuracy: 1586/1698 (93%)\n",
      "\n",
      "——————第 21 轮训练开始——————\n"
     ]
    },
    {
     "name": "stderr",
     "output_type": "stream",
     "text": [
      "trainning: 100%|██████████| 62/62 [01:44<00:00,  1.68s/it]\n"
     ]
    },
    {
     "name": "stdout",
     "output_type": "stream",
     "text": [
      "Epoch: 21, test_loss: 0.0135, train_accuracy: 3950/3961 (100%)\n",
      "Epoch: 21, test_loss: 0.2525, test_accuracy: 1582/1698 (93%)\n",
      "\n",
      "——————第 22 轮训练开始——————\n"
     ]
    },
    {
     "name": "stderr",
     "output_type": "stream",
     "text": [
      "trainning: 100%|██████████| 62/62 [01:44<00:00,  1.68s/it]\n"
     ]
    },
    {
     "name": "stdout",
     "output_type": "stream",
     "text": [
      "Epoch: 22, test_loss: 0.0137, train_accuracy: 3951/3961 (100%)\n",
      "Epoch: 22, test_loss: 0.2564, test_accuracy: 1581/1698 (93%)\n",
      "\n",
      "——————第 23 轮训练开始——————\n"
     ]
    },
    {
     "name": "stderr",
     "output_type": "stream",
     "text": [
      "trainning: 100%|██████████| 62/62 [01:42<00:00,  1.66s/it]\n"
     ]
    },
    {
     "name": "stdout",
     "output_type": "stream",
     "text": [
      "Epoch: 23, test_loss: 0.0124, train_accuracy: 3951/3961 (100%)\n",
      "Epoch: 23, test_loss: 0.2565, test_accuracy: 1585/1698 (93%)\n",
      "\n",
      "——————第 24 轮训练开始——————\n"
     ]
    },
    {
     "name": "stderr",
     "output_type": "stream",
     "text": [
      "trainning: 100%|██████████| 62/62 [01:44<00:00,  1.69s/it]\n"
     ]
    },
    {
     "name": "stdout",
     "output_type": "stream",
     "text": [
      "Epoch: 24, test_loss: 0.0171, train_accuracy: 3946/3961 (100%)\n",
      "Epoch: 24, test_loss: 0.2554, test_accuracy: 1582/1698 (93%)\n",
      "\n",
      "——————第 25 轮训练开始——————\n"
     ]
    },
    {
     "name": "stderr",
     "output_type": "stream",
     "text": [
      "trainning: 100%|██████████| 62/62 [01:43<00:00,  1.67s/it]\n"
     ]
    },
    {
     "name": "stdout",
     "output_type": "stream",
     "text": [
      "Epoch: 25, test_loss: 0.0101, train_accuracy: 3957/3961 (100%)\n",
      "Epoch: 25, test_loss: 0.2667, test_accuracy: 1576/1698 (93%)\n",
      "\n",
      "——————第 26 轮训练开始——————\n"
     ]
    },
    {
     "name": "stderr",
     "output_type": "stream",
     "text": [
      "trainning: 100%|██████████| 62/62 [01:43<00:00,  1.67s/it]\n"
     ]
    },
    {
     "name": "stdout",
     "output_type": "stream",
     "text": [
      "Epoch: 26, test_loss: 0.0143, train_accuracy: 3948/3961 (100%)\n",
      "Epoch: 26, test_loss: 0.2623, test_accuracy: 1580/1698 (93%)\n",
      "\n",
      "——————第 27 轮训练开始——————\n"
     ]
    },
    {
     "name": "stderr",
     "output_type": "stream",
     "text": [
      "trainning: 100%|██████████| 62/62 [01:41<00:00,  1.64s/it]\n"
     ]
    },
    {
     "name": "stdout",
     "output_type": "stream",
     "text": [
      "Epoch: 27, test_loss: 0.0172, train_accuracy: 3942/3961 (100%)\n",
      "Epoch: 27, test_loss: 0.2699, test_accuracy: 1582/1698 (93%)\n",
      "\n",
      "——————第 28 轮训练开始——————\n"
     ]
    },
    {
     "name": "stderr",
     "output_type": "stream",
     "text": [
      "trainning: 100%|██████████| 62/62 [01:41<00:00,  1.64s/it]\n"
     ]
    },
    {
     "name": "stdout",
     "output_type": "stream",
     "text": [
      "Epoch: 28, test_loss: 0.0161, train_accuracy: 3944/3961 (100%)\n",
      "Epoch: 28, test_loss: 0.2803, test_accuracy: 1572/1698 (93%)\n",
      "\n",
      "——————第 29 轮训练开始——————\n"
     ]
    },
    {
     "name": "stderr",
     "output_type": "stream",
     "text": [
      "trainning: 100%|██████████| 62/62 [01:42<00:00,  1.66s/it]\n"
     ]
    },
    {
     "name": "stdout",
     "output_type": "stream",
     "text": [
      "Epoch: 29, test_loss: 0.0311, train_accuracy: 3922/3961 (99%)\n",
      "Epoch: 29, test_loss: 0.3548, test_accuracy: 1528/1698 (90%)\n",
      "\n",
      "——————第 30 轮训练开始——————\n"
     ]
    },
    {
     "name": "stderr",
     "output_type": "stream",
     "text": [
      "trainning: 100%|██████████| 62/62 [01:43<00:00,  1.66s/it]\n"
     ]
    },
    {
     "name": "stdout",
     "output_type": "stream",
     "text": [
      "Epoch: 30, test_loss: 0.0406, train_accuracy: 3916/3961 (99%)\n",
      "Epoch: 30, test_loss: 0.5807, test_accuracy: 1393/1698 (82%)\n",
      "\n",
      "——————第 31 轮训练开始——————\n"
     ]
    },
    {
     "name": "stderr",
     "output_type": "stream",
     "text": [
      "trainning: 100%|██████████| 62/62 [01:42<00:00,  1.66s/it]\n"
     ]
    },
    {
     "name": "stdout",
     "output_type": "stream",
     "text": [
      "Epoch: 31, test_loss: 0.0784, train_accuracy: 3857/3961 (97%)\n",
      "Epoch: 31, test_loss: 2.6481, test_accuracy: 1022/1698 (60%)\n",
      "\n",
      "——————第 32 轮训练开始——————\n"
     ]
    },
    {
     "name": "stderr",
     "output_type": "stream",
     "text": [
      "trainning: 100%|██████████| 62/62 [01:42<00:00,  1.65s/it]\n"
     ]
    },
    {
     "name": "stdout",
     "output_type": "stream",
     "text": [
      "Epoch: 32, test_loss: 0.0828, train_accuracy: 3866/3961 (98%)\n",
      "Epoch: 32, test_loss: 0.3546, test_accuracy: 1528/1698 (90%)\n",
      "\n",
      "——————第 33 轮训练开始——————\n"
     ]
    },
    {
     "name": "stderr",
     "output_type": "stream",
     "text": [
      "trainning: 100%|██████████| 62/62 [01:42<00:00,  1.66s/it]\n"
     ]
    },
    {
     "name": "stdout",
     "output_type": "stream",
     "text": [
      "Epoch: 33, test_loss: 0.0921, train_accuracy: 3855/3961 (97%)\n",
      "Epoch: 33, test_loss: 0.6705, test_accuracy: 1396/1698 (82%)\n",
      "\n",
      "——————第 34 轮训练开始——————\n"
     ]
    },
    {
     "name": "stderr",
     "output_type": "stream",
     "text": [
      "trainning: 100%|██████████| 62/62 [01:43<00:00,  1.66s/it]\n"
     ]
    },
    {
     "name": "stdout",
     "output_type": "stream",
     "text": [
      "Epoch: 34, test_loss: 0.1003, train_accuracy: 3835/3961 (97%)\n",
      "Epoch: 34, test_loss: 0.5496, test_accuracy: 1446/1698 (85%)\n",
      "\n",
      "——————第 35 轮训练开始——————\n"
     ]
    },
    {
     "name": "stderr",
     "output_type": "stream",
     "text": [
      "trainning: 100%|██████████| 62/62 [01:42<00:00,  1.66s/it]\n"
     ]
    },
    {
     "name": "stdout",
     "output_type": "stream",
     "text": [
      "Epoch: 35, test_loss: 0.1296, train_accuracy: 3808/3961 (96%)\n",
      "Epoch: 35, test_loss: 0.6071, test_accuracy: 1395/1698 (82%)\n",
      "\n",
      "——————第 36 轮训练开始——————\n"
     ]
    },
    {
     "name": "stderr",
     "output_type": "stream",
     "text": [
      "trainning: 100%|██████████| 62/62 [01:46<00:00,  1.72s/it]\n"
     ]
    },
    {
     "name": "stdout",
     "output_type": "stream",
     "text": [
      "Epoch: 36, test_loss: 0.1187, train_accuracy: 3798/3961 (96%)\n",
      "Epoch: 36, test_loss: 2.9339, test_accuracy: 762/1698 (45%)\n",
      "\n",
      "——————第 37 轮训练开始——————\n"
     ]
    },
    {
     "name": "stderr",
     "output_type": "stream",
     "text": [
      "trainning: 100%|██████████| 62/62 [01:42<00:00,  1.66s/it]\n"
     ]
    },
    {
     "name": "stdout",
     "output_type": "stream",
     "text": [
      "Epoch: 37, test_loss: 0.1105, train_accuracy: 3822/3961 (96%)\n",
      "Epoch: 37, test_loss: 1.0675, test_accuracy: 1296/1698 (76%)\n",
      "\n",
      "——————第 38 轮训练开始——————\n"
     ]
    },
    {
     "name": "stderr",
     "output_type": "stream",
     "text": [
      "trainning: 100%|██████████| 62/62 [01:43<00:00,  1.67s/it]\n"
     ]
    },
    {
     "name": "stdout",
     "output_type": "stream",
     "text": [
      "Epoch: 38, test_loss: 0.1267, train_accuracy: 3796/3961 (96%)\n",
      "Epoch: 38, test_loss: 3.2215, test_accuracy: 731/1698 (43%)\n",
      "\n",
      "——————第 39 轮训练开始——————\n"
     ]
    },
    {
     "name": "stderr",
     "output_type": "stream",
     "text": [
      "trainning: 100%|██████████| 62/62 [01:43<00:00,  1.67s/it]\n"
     ]
    },
    {
     "name": "stdout",
     "output_type": "stream",
     "text": [
      "Epoch: 39, test_loss: 0.0891, train_accuracy: 3839/3961 (97%)\n",
      "Epoch: 39, test_loss: 2.0281, test_accuracy: 1173/1698 (69%)\n",
      "\n",
      "——————第 40 轮训练开始——————\n"
     ]
    },
    {
     "name": "stderr",
     "output_type": "stream",
     "text": [
      "trainning: 100%|██████████| 62/62 [01:41<00:00,  1.63s/it]\n"
     ]
    },
    {
     "name": "stdout",
     "output_type": "stream",
     "text": [
      "Epoch: 40, test_loss: 0.0769, train_accuracy: 3861/3961 (97%)\n",
      "Epoch: 40, test_loss: 0.4214, test_accuracy: 1485/1698 (87%)\n",
      "\n",
      "——————第 41 轮训练开始——————\n"
     ]
    },
    {
     "name": "stderr",
     "output_type": "stream",
     "text": [
      "trainning: 100%|██████████| 62/62 [01:42<00:00,  1.65s/it]\n"
     ]
    },
    {
     "name": "stdout",
     "output_type": "stream",
     "text": [
      "Epoch: 41, test_loss: 0.0737, train_accuracy: 3863/3961 (98%)\n",
      "Epoch: 41, test_loss: 0.4323, test_accuracy: 1482/1698 (87%)\n",
      "\n",
      "——————第 42 轮训练开始——————\n"
     ]
    },
    {
     "name": "stderr",
     "output_type": "stream",
     "text": [
      "trainning: 100%|██████████| 62/62 [01:42<00:00,  1.65s/it]\n"
     ]
    },
    {
     "name": "stdout",
     "output_type": "stream",
     "text": [
      "Epoch: 42, test_loss: 0.0695, train_accuracy: 3878/3961 (98%)\n",
      "Epoch: 42, test_loss: 0.4209, test_accuracy: 1514/1698 (89%)\n",
      "\n",
      "——————第 43 轮训练开始——————\n"
     ]
    },
    {
     "name": "stderr",
     "output_type": "stream",
     "text": [
      "trainning: 100%|██████████| 62/62 [01:42<00:00,  1.66s/it]\n"
     ]
    },
    {
     "name": "stdout",
     "output_type": "stream",
     "text": [
      "Epoch: 43, test_loss: 0.0516, train_accuracy: 3895/3961 (98%)\n",
      "Epoch: 43, test_loss: 1.3704, test_accuracy: 1322/1698 (78%)\n",
      "\n",
      "——————第 44 轮训练开始——————\n"
     ]
    },
    {
     "name": "stderr",
     "output_type": "stream",
     "text": [
      "trainning: 100%|██████████| 62/62 [01:42<00:00,  1.66s/it]\n"
     ]
    },
    {
     "name": "stdout",
     "output_type": "stream",
     "text": [
      "Epoch: 44, test_loss: 0.0606, train_accuracy: 3896/3961 (98%)\n",
      "Epoch: 44, test_loss: 0.2655, test_accuracy: 1558/1698 (92%)\n",
      "\n",
      "——————第 45 轮训练开始——————\n"
     ]
    },
    {
     "name": "stderr",
     "output_type": "stream",
     "text": [
      "trainning: 100%|██████████| 62/62 [01:44<00:00,  1.68s/it]\n"
     ]
    },
    {
     "name": "stdout",
     "output_type": "stream",
     "text": [
      "Epoch: 45, test_loss: 0.0365, train_accuracy: 3918/3961 (99%)\n",
      "Epoch: 45, test_loss: 0.4269, test_accuracy: 1515/1698 (89%)\n",
      "\n",
      "——————第 46 轮训练开始——————\n"
     ]
    },
    {
     "name": "stderr",
     "output_type": "stream",
     "text": [
      "trainning: 100%|██████████| 62/62 [01:44<00:00,  1.68s/it]\n"
     ]
    },
    {
     "name": "stdout",
     "output_type": "stream",
     "text": [
      "Epoch: 46, test_loss: 0.0326, train_accuracy: 3924/3961 (99%)\n",
      "Epoch: 46, test_loss: 0.3131, test_accuracy: 1556/1698 (92%)\n",
      "\n",
      "——————第 47 轮训练开始——————\n"
     ]
    },
    {
     "name": "stderr",
     "output_type": "stream",
     "text": [
      "trainning: 100%|██████████| 62/62 [01:44<00:00,  1.68s/it]\n"
     ]
    },
    {
     "name": "stdout",
     "output_type": "stream",
     "text": [
      "Epoch: 47, test_loss: 0.0331, train_accuracy: 3926/3961 (99%)\n",
      "Epoch: 47, test_loss: 0.5975, test_accuracy: 1491/1698 (88%)\n",
      "\n",
      "——————第 48 轮训练开始——————\n"
     ]
    },
    {
     "name": "stderr",
     "output_type": "stream",
     "text": [
      "trainning: 100%|██████████| 62/62 [01:43<00:00,  1.67s/it]\n"
     ]
    },
    {
     "name": "stdout",
     "output_type": "stream",
     "text": [
      "Epoch: 48, test_loss: 0.0239, train_accuracy: 3936/3961 (99%)\n",
      "Epoch: 48, test_loss: 0.3409, test_accuracy: 1555/1698 (92%)\n",
      "\n",
      "——————第 49 轮训练开始——————\n"
     ]
    },
    {
     "name": "stderr",
     "output_type": "stream",
     "text": [
      "trainning: 100%|██████████| 62/62 [01:44<00:00,  1.68s/it]\n"
     ]
    },
    {
     "name": "stdout",
     "output_type": "stream",
     "text": [
      "Epoch: 49, test_loss: 0.0166, train_accuracy: 3939/3961 (99%)\n",
      "Epoch: 49, test_loss: 1.2424, test_accuracy: 1265/1698 (74%)\n",
      "\n",
      "——————第 50 轮训练开始——————\n"
     ]
    },
    {
     "name": "stderr",
     "output_type": "stream",
     "text": [
      "trainning: 100%|██████████| 62/62 [01:43<00:00,  1.66s/it]\n"
     ]
    },
    {
     "name": "stdout",
     "output_type": "stream",
     "text": [
      "Epoch: 50, test_loss: 0.0134, train_accuracy: 3947/3961 (100%)\n",
      "Epoch: 50, test_loss: 0.3033, test_accuracy: 1572/1698 (93%)\n",
      "\n",
      "——————第 51 轮训练开始——————\n"
     ]
    },
    {
     "name": "stderr",
     "output_type": "stream",
     "text": [
      "trainning: 100%|██████████| 62/62 [01:43<00:00,  1.66s/it]\n"
     ]
    },
    {
     "name": "stdout",
     "output_type": "stream",
     "text": [
      "Epoch: 51, test_loss: 0.0097, train_accuracy: 3950/3961 (100%)\n",
      "Epoch: 51, test_loss: 0.2873, test_accuracy: 1580/1698 (93%)\n",
      "\n",
      "——————第 52 轮训练开始——————\n"
     ]
    },
    {
     "name": "stderr",
     "output_type": "stream",
     "text": [
      "trainning: 100%|██████████| 62/62 [01:43<00:00,  1.67s/it]\n"
     ]
    },
    {
     "name": "stdout",
     "output_type": "stream",
     "text": [
      "Epoch: 52, test_loss: 0.0098, train_accuracy: 3950/3961 (100%)\n",
      "Epoch: 52, test_loss: 0.2733, test_accuracy: 1588/1698 (94%)\n",
      "\n",
      "——————第 53 轮训练开始——————\n"
     ]
    },
    {
     "name": "stderr",
     "output_type": "stream",
     "text": [
      "trainning: 100%|██████████| 62/62 [01:44<00:00,  1.68s/it]\n"
     ]
    },
    {
     "name": "stdout",
     "output_type": "stream",
     "text": [
      "Epoch: 53, test_loss: 0.0070, train_accuracy: 3955/3961 (100%)\n",
      "Epoch: 53, test_loss: 0.2839, test_accuracy: 1578/1698 (93%)\n",
      "\n",
      "——————第 54 轮训练开始——————\n"
     ]
    },
    {
     "name": "stderr",
     "output_type": "stream",
     "text": [
      "trainning: 100%|██████████| 62/62 [01:44<00:00,  1.68s/it]\n"
     ]
    },
    {
     "name": "stdout",
     "output_type": "stream",
     "text": [
      "Epoch: 54, test_loss: 0.0061, train_accuracy: 3957/3961 (100%)\n",
      "Epoch: 54, test_loss: 0.2539, test_accuracy: 1596/1698 (94%)\n",
      "\n",
      "——————第 55 轮训练开始——————\n"
     ]
    },
    {
     "name": "stderr",
     "output_type": "stream",
     "text": [
      "trainning: 100%|██████████| 62/62 [01:44<00:00,  1.68s/it]\n"
     ]
    },
    {
     "name": "stdout",
     "output_type": "stream",
     "text": [
      "Epoch: 55, test_loss: 0.0052, train_accuracy: 3957/3961 (100%)\n",
      "Epoch: 55, test_loss: 0.2760, test_accuracy: 1588/1698 (94%)\n",
      "\n",
      "——————第 56 轮训练开始——————\n"
     ]
    },
    {
     "name": "stderr",
     "output_type": "stream",
     "text": [
      "trainning: 100%|██████████| 62/62 [01:44<00:00,  1.69s/it]\n"
     ]
    },
    {
     "name": "stdout",
     "output_type": "stream",
     "text": [
      "Epoch: 56, test_loss: 0.0039, train_accuracy: 3960/3961 (100%)\n",
      "Epoch: 56, test_loss: 0.2775, test_accuracy: 1588/1698 (94%)\n",
      "\n",
      "——————第 57 轮训练开始——————\n"
     ]
    },
    {
     "name": "stderr",
     "output_type": "stream",
     "text": [
      "trainning: 100%|██████████| 62/62 [01:45<00:00,  1.69s/it]\n"
     ]
    },
    {
     "name": "stdout",
     "output_type": "stream",
     "text": [
      "Epoch: 57, test_loss: 0.0029, train_accuracy: 3961/3961 (100%)\n",
      "Epoch: 57, test_loss: 0.2855, test_accuracy: 1579/1698 (93%)\n",
      "\n",
      "——————第 58 轮训练开始——————\n"
     ]
    },
    {
     "name": "stderr",
     "output_type": "stream",
     "text": [
      "trainning: 100%|██████████| 62/62 [01:44<00:00,  1.68s/it]\n"
     ]
    },
    {
     "name": "stdout",
     "output_type": "stream",
     "text": [
      "Epoch: 58, test_loss: 0.0031, train_accuracy: 3960/3961 (100%)\n",
      "Epoch: 58, test_loss: 0.2781, test_accuracy: 1582/1698 (93%)\n",
      "\n",
      "——————第 59 轮训练开始——————\n"
     ]
    },
    {
     "name": "stderr",
     "output_type": "stream",
     "text": [
      "trainning: 100%|██████████| 62/62 [01:44<00:00,  1.68s/it]\n"
     ]
    },
    {
     "name": "stdout",
     "output_type": "stream",
     "text": [
      "Epoch: 59, test_loss: 0.0036, train_accuracy: 3959/3961 (100%)\n",
      "Epoch: 59, test_loss: 0.2771, test_accuracy: 1578/1698 (93%)\n",
      "\n",
      "——————第 60 轮训练开始——————\n"
     ]
    },
    {
     "name": "stderr",
     "output_type": "stream",
     "text": [
      "trainning: 100%|██████████| 62/62 [01:43<00:00,  1.67s/it]\n"
     ]
    },
    {
     "name": "stdout",
     "output_type": "stream",
     "text": [
      "Epoch: 60, test_loss: 0.0037, train_accuracy: 3958/3961 (100%)\n",
      "Epoch: 60, test_loss: 0.2739, test_accuracy: 1586/1698 (93%)\n",
      "\n",
      "——————第 61 轮训练开始——————\n"
     ]
    },
    {
     "name": "stderr",
     "output_type": "stream",
     "text": [
      "trainning: 100%|██████████| 62/62 [01:44<00:00,  1.69s/it]\n"
     ]
    },
    {
     "name": "stdout",
     "output_type": "stream",
     "text": [
      "Epoch: 61, test_loss: 0.0029, train_accuracy: 3959/3961 (100%)\n",
      "Epoch: 61, test_loss: 0.2742, test_accuracy: 1588/1698 (94%)\n",
      "\n",
      "——————第 62 轮训练开始——————\n"
     ]
    },
    {
     "name": "stderr",
     "output_type": "stream",
     "text": [
      "trainning: 100%|██████████| 62/62 [01:46<00:00,  1.72s/it]\n"
     ]
    },
    {
     "name": "stdout",
     "output_type": "stream",
     "text": [
      "Epoch: 62, test_loss: 0.0027, train_accuracy: 3960/3961 (100%)\n",
      "Epoch: 62, test_loss: 0.2734, test_accuracy: 1588/1698 (94%)\n",
      "\n",
      "——————第 63 轮训练开始——————\n"
     ]
    },
    {
     "name": "stderr",
     "output_type": "stream",
     "text": [
      "trainning: 100%|██████████| 62/62 [01:44<00:00,  1.69s/it]\n"
     ]
    },
    {
     "name": "stdout",
     "output_type": "stream",
     "text": [
      "Epoch: 63, test_loss: 0.0047, train_accuracy: 3955/3961 (100%)\n",
      "Epoch: 63, test_loss: 0.2796, test_accuracy: 1580/1698 (93%)\n",
      "\n",
      "——————第 64 轮训练开始——————\n"
     ]
    },
    {
     "name": "stderr",
     "output_type": "stream",
     "text": [
      "trainning: 100%|██████████| 62/62 [01:44<00:00,  1.68s/it]\n"
     ]
    },
    {
     "name": "stdout",
     "output_type": "stream",
     "text": [
      "Epoch: 64, test_loss: 0.0037, train_accuracy: 3958/3961 (100%)\n",
      "Epoch: 64, test_loss: 0.2832, test_accuracy: 1583/1698 (93%)\n",
      "\n",
      "——————第 65 轮训练开始——————\n"
     ]
    },
    {
     "name": "stderr",
     "output_type": "stream",
     "text": [
      "trainning: 100%|██████████| 62/62 [01:44<00:00,  1.68s/it]\n"
     ]
    },
    {
     "name": "stdout",
     "output_type": "stream",
     "text": [
      "Epoch: 65, test_loss: 0.0028, train_accuracy: 3961/3961 (100%)\n",
      "Epoch: 65, test_loss: 0.2787, test_accuracy: 1585/1698 (93%)\n",
      "\n",
      "——————第 66 轮训练开始——————\n"
     ]
    },
    {
     "name": "stderr",
     "output_type": "stream",
     "text": [
      "trainning: 100%|██████████| 62/62 [01:43<00:00,  1.67s/it]\n"
     ]
    },
    {
     "name": "stdout",
     "output_type": "stream",
     "text": [
      "Epoch: 66, test_loss: 0.0032, train_accuracy: 3958/3961 (100%)\n",
      "Epoch: 66, test_loss: 0.2843, test_accuracy: 1587/1698 (93%)\n",
      "\n",
      "——————第 67 轮训练开始——————\n"
     ]
    },
    {
     "name": "stderr",
     "output_type": "stream",
     "text": [
      "trainning: 100%|██████████| 62/62 [01:43<00:00,  1.68s/it]\n"
     ]
    },
    {
     "name": "stdout",
     "output_type": "stream",
     "text": [
      "Epoch: 67, test_loss: 0.0053, train_accuracy: 3954/3961 (100%)\n",
      "Epoch: 67, test_loss: 0.2812, test_accuracy: 1584/1698 (93%)\n",
      "\n",
      "——————第 68 轮训练开始——————\n"
     ]
    },
    {
     "name": "stderr",
     "output_type": "stream",
     "text": [
      "trainning: 100%|██████████| 62/62 [01:44<00:00,  1.68s/it]\n"
     ]
    },
    {
     "name": "stdout",
     "output_type": "stream",
     "text": [
      "Epoch: 68, test_loss: 0.0082, train_accuracy: 3952/3961 (100%)\n",
      "Epoch: 68, test_loss: 0.2776, test_accuracy: 1583/1698 (93%)\n",
      "\n",
      "——————第 69 轮训练开始——————\n"
     ]
    },
    {
     "name": "stderr",
     "output_type": "stream",
     "text": [
      "trainning: 100%|██████████| 62/62 [01:43<00:00,  1.68s/it]\n"
     ]
    },
    {
     "name": "stdout",
     "output_type": "stream",
     "text": [
      "Epoch: 69, test_loss: 0.0077, train_accuracy: 3954/3961 (100%)\n",
      "Epoch: 69, test_loss: 0.3087, test_accuracy: 1569/1698 (92%)\n",
      "\n",
      "——————第 70 轮训练开始——————\n"
     ]
    },
    {
     "name": "stderr",
     "output_type": "stream",
     "text": [
      "trainning: 100%|██████████| 62/62 [01:46<00:00,  1.72s/it]\n"
     ]
    },
    {
     "name": "stdout",
     "output_type": "stream",
     "text": [
      "Epoch: 70, test_loss: 0.0175, train_accuracy: 3945/3961 (100%)\n",
      "Epoch: 70, test_loss: 0.3645, test_accuracy: 1558/1698 (92%)\n",
      "\n",
      "——————第 71 轮训练开始——————\n"
     ]
    },
    {
     "name": "stderr",
     "output_type": "stream",
     "text": [
      "trainning: 100%|██████████| 62/62 [01:43<00:00,  1.67s/it]\n"
     ]
    },
    {
     "name": "stdout",
     "output_type": "stream",
     "text": [
      "Epoch: 71, test_loss: 0.0297, train_accuracy: 3926/3961 (99%)\n",
      "Epoch: 71, test_loss: 2.1829, test_accuracy: 1171/1698 (69%)\n",
      "\n",
      "——————第 72 轮训练开始——————\n"
     ]
    },
    {
     "name": "stderr",
     "output_type": "stream",
     "text": [
      "trainning: 100%|██████████| 62/62 [01:44<00:00,  1.68s/it]\n"
     ]
    },
    {
     "name": "stdout",
     "output_type": "stream",
     "text": [
      "Epoch: 72, test_loss: 0.0542, train_accuracy: 3886/3961 (98%)\n",
      "Epoch: 72, test_loss: 1.6503, test_accuracy: 1083/1698 (64%)\n",
      "\n",
      "——————第 73 轮训练开始——————\n"
     ]
    },
    {
     "name": "stderr",
     "output_type": "stream",
     "text": [
      "trainning: 100%|██████████| 62/62 [01:44<00:00,  1.68s/it]\n"
     ]
    },
    {
     "name": "stdout",
     "output_type": "stream",
     "text": [
      "Epoch: 73, test_loss: 0.0571, train_accuracy: 3895/3961 (98%)\n",
      "Epoch: 73, test_loss: 0.4006, test_accuracy: 1506/1698 (89%)\n",
      "\n",
      "——————第 74 轮训练开始——————\n"
     ]
    },
    {
     "name": "stderr",
     "output_type": "stream",
     "text": [
      "trainning: 100%|██████████| 62/62 [01:44<00:00,  1.68s/it]\n"
     ]
    },
    {
     "name": "stdout",
     "output_type": "stream",
     "text": [
      "Epoch: 74, test_loss: 0.0416, train_accuracy: 3914/3961 (99%)\n",
      "Epoch: 74, test_loss: 1.1650, test_accuracy: 1266/1698 (75%)\n",
      "\n",
      "——————第 75 轮训练开始——————\n"
     ]
    },
    {
     "name": "stderr",
     "output_type": "stream",
     "text": [
      "trainning: 100%|██████████| 62/62 [01:43<00:00,  1.66s/it]\n"
     ]
    },
    {
     "name": "stdout",
     "output_type": "stream",
     "text": [
      "Epoch: 75, test_loss: 0.0720, train_accuracy: 3867/3961 (98%)\n",
      "Epoch: 75, test_loss: 1.9066, test_accuracy: 856/1698 (50%)\n",
      "\n",
      "——————第 76 轮训练开始——————\n"
     ]
    },
    {
     "name": "stderr",
     "output_type": "stream",
     "text": [
      "trainning: 100%|██████████| 62/62 [01:42<00:00,  1.65s/it]\n"
     ]
    },
    {
     "name": "stdout",
     "output_type": "stream",
     "text": [
      "Epoch: 76, test_loss: 0.1261, train_accuracy: 3778/3961 (95%)\n",
      "Epoch: 76, test_loss: 0.4772, test_accuracy: 1475/1698 (87%)\n",
      "\n",
      "——————第 77 轮训练开始——————\n"
     ]
    },
    {
     "name": "stderr",
     "output_type": "stream",
     "text": [
      "trainning: 100%|██████████| 62/62 [01:41<00:00,  1.64s/it]\n"
     ]
    },
    {
     "name": "stdout",
     "output_type": "stream",
     "text": [
      "Epoch: 77, test_loss: 0.0887, train_accuracy: 3847/3961 (97%)\n",
      "Epoch: 77, test_loss: 4.5492, test_accuracy: 690/1698 (41%)\n",
      "\n",
      "——————第 78 轮训练开始——————\n"
     ]
    },
    {
     "name": "stderr",
     "output_type": "stream",
     "text": [
      "trainning: 100%|██████████| 62/62 [01:43<00:00,  1.67s/it]\n"
     ]
    },
    {
     "name": "stdout",
     "output_type": "stream",
     "text": [
      "Epoch: 78, test_loss: 0.0703, train_accuracy: 3863/3961 (98%)\n",
      "Epoch: 78, test_loss: 0.3560, test_accuracy: 1511/1698 (89%)\n",
      "\n",
      "——————第 79 轮训练开始——————\n"
     ]
    },
    {
     "name": "stderr",
     "output_type": "stream",
     "text": [
      "trainning: 100%|██████████| 62/62 [01:42<00:00,  1.66s/it]\n"
     ]
    },
    {
     "name": "stdout",
     "output_type": "stream",
     "text": [
      "Epoch: 79, test_loss: 0.0569, train_accuracy: 3892/3961 (98%)\n",
      "Epoch: 79, test_loss: 0.4176, test_accuracy: 1506/1698 (89%)\n",
      "\n",
      "——————第 80 轮训练开始——————\n"
     ]
    },
    {
     "name": "stderr",
     "output_type": "stream",
     "text": [
      "trainning: 100%|██████████| 62/62 [01:41<00:00,  1.64s/it]\n"
     ]
    },
    {
     "name": "stdout",
     "output_type": "stream",
     "text": [
      "Epoch: 80, test_loss: 0.0480, train_accuracy: 3905/3961 (99%)\n",
      "Epoch: 80, test_loss: 1.3274, test_accuracy: 1254/1698 (74%)\n",
      "\n",
      "——————第 81 轮训练开始——————\n"
     ]
    },
    {
     "name": "stderr",
     "output_type": "stream",
     "text": [
      "trainning: 100%|██████████| 62/62 [01:41<00:00,  1.63s/it]\n"
     ]
    },
    {
     "name": "stdout",
     "output_type": "stream",
     "text": [
      "Epoch: 81, test_loss: 0.0433, train_accuracy: 3913/3961 (99%)\n",
      "Epoch: 81, test_loss: 0.3656, test_accuracy: 1527/1698 (90%)\n",
      "\n",
      "——————第 82 轮训练开始——————\n"
     ]
    },
    {
     "name": "stderr",
     "output_type": "stream",
     "text": [
      "trainning: 100%|██████████| 62/62 [01:40<00:00,  1.63s/it]\n"
     ]
    },
    {
     "name": "stdout",
     "output_type": "stream",
     "text": [
      "Epoch: 82, test_loss: 0.0395, train_accuracy: 3906/3961 (99%)\n",
      "Epoch: 82, test_loss: 1.5370, test_accuracy: 1220/1698 (72%)\n",
      "\n",
      "——————第 83 轮训练开始——————\n"
     ]
    },
    {
     "name": "stderr",
     "output_type": "stream",
     "text": [
      "trainning: 100%|██████████| 62/62 [01:42<00:00,  1.65s/it]\n"
     ]
    },
    {
     "name": "stdout",
     "output_type": "stream",
     "text": [
      "Epoch: 83, test_loss: 0.0644, train_accuracy: 3878/3961 (98%)\n",
      "Epoch: 83, test_loss: 0.5700, test_accuracy: 1432/1698 (84%)\n",
      "\n",
      "——————第 84 轮训练开始——————\n"
     ]
    },
    {
     "name": "stderr",
     "output_type": "stream",
     "text": [
      "trainning: 100%|██████████| 62/62 [01:42<00:00,  1.65s/it]\n"
     ]
    },
    {
     "name": "stdout",
     "output_type": "stream",
     "text": [
      "Epoch: 84, test_loss: 0.0359, train_accuracy: 3913/3961 (99%)\n",
      "Epoch: 84, test_loss: 2.8846, test_accuracy: 985/1698 (58%)\n",
      "\n",
      "——————第 85 轮训练开始——————\n"
     ]
    },
    {
     "name": "stderr",
     "output_type": "stream",
     "text": [
      "trainning: 100%|██████████| 62/62 [01:42<00:00,  1.65s/it]\n"
     ]
    },
    {
     "name": "stdout",
     "output_type": "stream",
     "text": [
      "Epoch: 85, test_loss: 0.0352, train_accuracy: 3918/3961 (99%)\n",
      "Epoch: 85, test_loss: 0.7067, test_accuracy: 1446/1698 (85%)\n",
      "\n",
      "——————第 86 轮训练开始——————\n"
     ]
    },
    {
     "name": "stderr",
     "output_type": "stream",
     "text": [
      "trainning: 100%|██████████| 62/62 [01:42<00:00,  1.65s/it]\n"
     ]
    },
    {
     "name": "stdout",
     "output_type": "stream",
     "text": [
      "Epoch: 86, test_loss: 0.0350, train_accuracy: 3924/3961 (99%)\n",
      "Epoch: 86, test_loss: 0.4001, test_accuracy: 1541/1698 (91%)\n",
      "\n",
      "——————第 87 轮训练开始——————\n"
     ]
    },
    {
     "name": "stderr",
     "output_type": "stream",
     "text": [
      "trainning: 100%|██████████| 62/62 [01:47<00:00,  1.74s/it]\n"
     ]
    },
    {
     "name": "stdout",
     "output_type": "stream",
     "text": [
      "Epoch: 87, test_loss: 0.0283, train_accuracy: 3935/3961 (99%)\n",
      "Epoch: 87, test_loss: 0.3267, test_accuracy: 1551/1698 (91%)\n",
      "\n",
      "——————第 88 轮训练开始——————\n"
     ]
    },
    {
     "name": "stderr",
     "output_type": "stream",
     "text": [
      "trainning: 100%|██████████| 62/62 [01:42<00:00,  1.65s/it]\n"
     ]
    },
    {
     "name": "stdout",
     "output_type": "stream",
     "text": [
      "Epoch: 88, test_loss: 0.0103, train_accuracy: 3953/3961 (100%)\n",
      "Epoch: 88, test_loss: 0.3022, test_accuracy: 1571/1698 (93%)\n",
      "\n",
      "——————第 89 轮训练开始——————\n"
     ]
    },
    {
     "name": "stderr",
     "output_type": "stream",
     "text": [
      "trainning: 100%|██████████| 62/62 [01:41<00:00,  1.64s/it]\n"
     ]
    },
    {
     "name": "stdout",
     "output_type": "stream",
     "text": [
      "Epoch: 89, test_loss: 0.0082, train_accuracy: 3952/3961 (100%)\n",
      "Epoch: 89, test_loss: 0.3653, test_accuracy: 1556/1698 (92%)\n",
      "\n",
      "——————第 90 轮训练开始——————\n"
     ]
    },
    {
     "name": "stderr",
     "output_type": "stream",
     "text": [
      "trainning: 100%|██████████| 62/62 [01:41<00:00,  1.64s/it]\n"
     ]
    },
    {
     "name": "stdout",
     "output_type": "stream",
     "text": [
      "Epoch: 90, test_loss: 0.0088, train_accuracy: 3953/3961 (100%)\n",
      "Epoch: 90, test_loss: 0.2965, test_accuracy: 1573/1698 (93%)\n",
      "\n",
      "——————第 91 轮训练开始——————\n"
     ]
    },
    {
     "name": "stderr",
     "output_type": "stream",
     "text": [
      "trainning: 100%|██████████| 62/62 [01:42<00:00,  1.65s/it]\n"
     ]
    },
    {
     "name": "stdout",
     "output_type": "stream",
     "text": [
      "Epoch: 91, test_loss: 0.0062, train_accuracy: 3955/3961 (100%)\n",
      "Epoch: 91, test_loss: 0.3310, test_accuracy: 1570/1698 (92%)\n",
      "\n",
      "——————第 92 轮训练开始——————\n"
     ]
    },
    {
     "name": "stderr",
     "output_type": "stream",
     "text": [
      "trainning: 100%|██████████| 62/62 [01:41<00:00,  1.64s/it]\n"
     ]
    },
    {
     "name": "stdout",
     "output_type": "stream",
     "text": [
      "Epoch: 92, test_loss: 0.0056, train_accuracy: 3953/3961 (100%)\n",
      "Epoch: 92, test_loss: 0.3256, test_accuracy: 1574/1698 (93%)\n",
      "\n",
      "——————第 93 轮训练开始——————\n"
     ]
    },
    {
     "name": "stderr",
     "output_type": "stream",
     "text": [
      "trainning: 100%|██████████| 62/62 [01:41<00:00,  1.64s/it]\n"
     ]
    },
    {
     "name": "stdout",
     "output_type": "stream",
     "text": [
      "Epoch: 93, test_loss: 0.0043, train_accuracy: 3957/3961 (100%)\n",
      "Epoch: 93, test_loss: 0.3227, test_accuracy: 1565/1698 (92%)\n",
      "\n",
      "——————第 94 轮训练开始——————\n"
     ]
    },
    {
     "name": "stderr",
     "output_type": "stream",
     "text": [
      "trainning: 100%|██████████| 62/62 [01:41<00:00,  1.64s/it]\n"
     ]
    },
    {
     "name": "stdout",
     "output_type": "stream",
     "text": [
      "Epoch: 94, test_loss: 0.0041, train_accuracy: 3958/3961 (100%)\n",
      "Epoch: 94, test_loss: 0.2929, test_accuracy: 1580/1698 (93%)\n",
      "\n",
      "——————第 95 轮训练开始——————\n"
     ]
    },
    {
     "name": "stderr",
     "output_type": "stream",
     "text": [
      "trainning: 100%|██████████| 62/62 [01:42<00:00,  1.66s/it]\n"
     ]
    },
    {
     "name": "stdout",
     "output_type": "stream",
     "text": [
      "Epoch: 95, test_loss: 0.0034, train_accuracy: 3959/3961 (100%)\n",
      "Epoch: 95, test_loss: 0.2926, test_accuracy: 1579/1698 (93%)\n",
      "\n",
      "——————第 96 轮训练开始——————\n"
     ]
    },
    {
     "name": "stderr",
     "output_type": "stream",
     "text": [
      "trainning: 100%|██████████| 62/62 [01:43<00:00,  1.67s/it]\n"
     ]
    },
    {
     "name": "stdout",
     "output_type": "stream",
     "text": [
      "Epoch: 96, test_loss: 0.0042, train_accuracy: 3957/3961 (100%)\n",
      "Epoch: 96, test_loss: 0.3026, test_accuracy: 1582/1698 (93%)\n",
      "\n",
      "——————第 97 轮训练开始——————\n"
     ]
    },
    {
     "name": "stderr",
     "output_type": "stream",
     "text": [
      "trainning: 100%|██████████| 62/62 [01:43<00:00,  1.66s/it]\n"
     ]
    },
    {
     "name": "stdout",
     "output_type": "stream",
     "text": [
      "Epoch: 97, test_loss: 0.0019, train_accuracy: 3960/3961 (100%)\n",
      "Epoch: 97, test_loss: 0.2881, test_accuracy: 1586/1698 (93%)\n",
      "\n",
      "——————第 98 轮训练开始——————\n"
     ]
    },
    {
     "name": "stderr",
     "output_type": "stream",
     "text": [
      "trainning: 100%|██████████| 62/62 [01:43<00:00,  1.67s/it]\n"
     ]
    },
    {
     "name": "stdout",
     "output_type": "stream",
     "text": [
      "Epoch: 98, test_loss: 0.0025, train_accuracy: 3960/3961 (100%)\n",
      "Epoch: 98, test_loss: 0.2809, test_accuracy: 1588/1698 (94%)\n",
      "\n",
      "——————第 99 轮训练开始——————\n"
     ]
    },
    {
     "name": "stderr",
     "output_type": "stream",
     "text": [
      "trainning: 100%|██████████| 62/62 [01:42<00:00,  1.66s/it]\n"
     ]
    },
    {
     "name": "stdout",
     "output_type": "stream",
     "text": [
      "Epoch: 99, test_loss: 0.0023, train_accuracy: 3960/3961 (100%)\n",
      "Epoch: 99, test_loss: 0.2857, test_accuracy: 1588/1698 (94%)\n",
      "\n",
      "——————第 100 轮训练开始——————\n"
     ]
    },
    {
     "name": "stderr",
     "output_type": "stream",
     "text": [
      "trainning: 100%|██████████| 62/62 [01:45<00:00,  1.70s/it]\n"
     ]
    },
    {
     "name": "stdout",
     "output_type": "stream",
     "text": [
      "Epoch: 100, test_loss: 0.0015, train_accuracy: 3961/3961 (100%)\n",
      "Epoch: 100, test_loss: 0.2885, test_accuracy: 1586/1698 (93%)\n",
      "\n"
     ]
    }
   ],
   "source": [
    "    train_losses, train_acces, eval_acces = train(model,train_dataloader,test_dataloader,\n",
    "          device,batch_size,epoch,learning_rate,criterion,optimizer)\n",
    "    "
   ]
  },
  {
   "cell_type": "code",
   "execution_count": null,
   "id": "d81b92ab-d02b-4712-9a79-a5e413eb3aa9",
   "metadata": {},
   "outputs": [],
   "source": []
  }
 ],
 "metadata": {
  "kernelspec": {
   "display_name": "d2l",
   "language": "python",
   "name": "d2l"
  },
  "language_info": {
   "codemirror_mode": {
    "name": "ipython",
    "version": 3
   },
   "file_extension": ".py",
   "mimetype": "text/x-python",
   "name": "python",
   "nbconvert_exporter": "python",
   "pygments_lexer": "ipython3",
   "version": "3.9.19"
  }
 },
 "nbformat": 4,
 "nbformat_minor": 5
}
