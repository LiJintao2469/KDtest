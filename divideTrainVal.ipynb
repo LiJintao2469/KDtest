{
 "cells": [
  {
   "cell_type": "code",
   "execution_count": 10,
   "id": "2f36b6ff-b928-42b3-9833-971759725451",
   "metadata": {},
   "outputs": [],
   "source": [
    "import glob\n",
    "import os\n",
    "import shutil"
   ]
  },
  {
   "cell_type": "code",
   "execution_count": 23,
   "id": "209b724f-adb7-4c6b-a6e7-e37aeb36062a",
   "metadata": {},
   "outputs": [
    {
     "name": "stdout",
     "output_type": "stream",
     "text": [
      "true\n"
     ]
    }
   ],
   "source": [
    "image_list=glob.glob('/KDtest/rawdata/Segmented/*/*.png')\n",
    "file_dir='/KDtest/data'\n",
    "if os.path.exists(file_dir):\n",
    "    print('true')\n",
    "    #os.rmdir(file_dir)\n",
    "    shutil.rmtree(file_dir)#删除再建立\n",
    "    os.makedirs(file_dir)\n",
    "else:\n",
    "    os.makedirs(file_dir)\n",
    "\n",
    "from sklearn.model_selection import train_test_split"
   ]
  },
  {
   "cell_type": "code",
   "execution_count": 24,
   "id": "d3382a9d-9ec4-4304-8ea8-ef02eae32016",
   "metadata": {},
   "outputs": [],
   "source": [
    "train_files, val_files = train_test_split(image_list, test_size=0.3,train_size=0.7, random_state=42)\n",
    "train_dir='train'\n",
    "val_dir='val'\n",
    "train_root=os.path.join(file_dir,train_dir)\n",
    "val_root=os.path.join(file_dir,val_dir)"
   ]
  },
  {
   "cell_type": "code",
   "execution_count": 15,
   "id": "a3ef7ac4-cb66-4e45-97a2-2d06d6873e37",
   "metadata": {},
   "outputs": [
    {
     "data": {
      "text/plain": [
       "'/KDtest/data\\\\train'"
      ]
     },
     "execution_count": 15,
     "metadata": {},
     "output_type": "execute_result"
    }
   ],
   "source": [
    "train_root"
   ]
  },
  {
   "cell_type": "code",
   "execution_count": 16,
   "id": "c277c61d-2629-4cb5-b854-d50588788c5c",
   "metadata": {},
   "outputs": [
    {
     "data": {
      "text/plain": [
       "'data/Segmented\\\\Black-grass\\\\74.png'"
      ]
     },
     "execution_count": 16,
     "metadata": {},
     "output_type": "execute_result"
    }
   ],
   "source": [
    "trainval_files[0]"
   ]
  },
  {
   "cell_type": "code",
   "execution_count": 19,
   "id": "e4faed31-0da9-4889-8591-8d4062ea3333",
   "metadata": {},
   "outputs": [
    {
     "data": {
      "text/plain": [
       "'Black-grass'"
      ]
     },
     "execution_count": 19,
     "metadata": {},
     "output_type": "execute_result"
    }
   ],
   "source": [
    "file_class = trainval_files[0].replace(\"\\\\\",\"/\").split('/')[-2]\n",
    "file_class"
   ]
  },
  {
   "cell_type": "code",
   "execution_count": 25,
   "id": "4e827968-24b8-4f7e-bcdf-9b1dada09f31",
   "metadata": {},
   "outputs": [],
   "source": [
    "for file in train_files:\n",
    "    file_class = file.replace(\"\\\\\",\"/\").split(\"/\")[-2]\n",
    "    file_name = file.replace(\"\\\\\",\"/\").split(\"/\")[-1]\n",
    "    file_root = os.path.join(train_root,file_class)\n",
    "    if not os.path.isdir(file_root):\n",
    "        os.makedirs(file_root)\n",
    "    shutil.copy(file, file_root + '/' + file_name)"
   ]
  },
  {
   "cell_type": "code",
   "execution_count": 26,
   "id": "43002ba4-3451-4632-9894-9b7c3b2c71d1",
   "metadata": {},
   "outputs": [],
   "source": [
    "for file in val_files:\n",
    "    file_class = file.replace(\"\\\\\",\"/\").split(\"/\")[-2]\n",
    "    file_name = file.replace(\"\\\\\",\"/\").split(\"/\")[-1]\n",
    "    file_root = os.path.join(val_root,file_class)\n",
    "    if not os.path.isdir(file_root):\n",
    "        os.makedirs(file_root)\n",
    "    shutil.copy(file, file_root + '/' + file_name)"
   ]
  },
  {
   "cell_type": "code",
   "execution_count": null,
   "id": "d56d11c5-7fdb-4d51-a04e-a973af1ab85e",
   "metadata": {},
   "outputs": [],
   "source": []
  }
 ],
 "metadata": {
  "kernelspec": {
   "display_name": "d2l",
   "language": "python",
   "name": "d2l"
  },
  "language_info": {
   "codemirror_mode": {
    "name": "ipython",
    "version": 3
   },
   "file_extension": ".py",
   "mimetype": "text/x-python",
   "name": "python",
   "nbconvert_exporter": "python",
   "pygments_lexer": "ipython3",
   "version": "3.9.19"
  }
 },
 "nbformat": 4,
 "nbformat_minor": 5
}
