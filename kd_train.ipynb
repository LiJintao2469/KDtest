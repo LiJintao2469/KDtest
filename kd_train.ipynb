{
 "cells": [
  {
   "cell_type": "code",
   "execution_count": 2,
   "id": "758ff60a-c6d4-4d4a-a764-54f9d96dfd50",
   "metadata": {},
   "outputs": [
    {
     "name": "stdout",
     "output_type": "stream",
     "text": [
      "importing Jupyter notebook from irg.ipynb\n"
     ]
    }
   ],
   "source": [
    "import torch.optim as optim\n",
    "import torch\n",
    "import torch.nn as nn\n",
    "import torch.nn.parallel\n",
    "import torch.utils.data\n",
    "import torch.utils.data.distributed\n",
    "import torchvision.transforms as transforms\n",
    "import import_ipynb\n",
    "from torchvision import datasets\n",
    "\n",
    "from model.resnet import ResNet18\n",
    "\n",
    "import json\n",
    "import os\n",
    "\n",
    "from irg import IRG"
   ]
  },
  {
   "cell_type": "code",
   "execution_count": 3,
   "id": "def14353-017c-451b-9770-2850b48b731e",
   "metadata": {},
   "outputs": [],
   "source": [
    "import Ranger\n",
    "from tqdm import tqdm\n",
    "import numpy as np\n",
    "from matplotlib import pyplot as plt\n",
    "import timm\n",
    "from torchinfo import summary #打印网络模型各层信息的库"
   ]
  },
  {
   "cell_type": "code",
   "execution_count": 4,
   "id": "dca584db-4afc-46f7-bcb8-d71cea8a05d7",
   "metadata": {},
   "outputs": [],
   "source": [
    "def get_dataloader(train_dir, val_dir, batch_size):\n",
    "    transform = transforms.Compose([\n",
    "        transforms.RandomRotation(10),\n",
    "        transforms.GaussianBlur(kernel_size=(5, 5), sigma=(0.1, 3.0)),\n",
    "        transforms.ColorJitter(brightness=0.5, contrast=0.5, saturation=0.5),\n",
    "        transforms.Resize((224, 224)),\n",
    "        transforms.ToTensor(),\n",
    "        transforms.Normalize(mean=[0.44127703, 0.4712498, 0.43714803], std=[0.18507297, 0.18050247, 0.16784933])\n",
    "    ])\n",
    "    \n",
    "    transform_test = transforms.Compose([\n",
    "        transforms.Resize((224, 224)),\n",
    "        transforms.ToTensor(),\n",
    "        transforms.Normalize(mean=[0.44127703, 0.4712498, 0.43714803], std=[0.18507297, 0.18050247, 0.16784933])\n",
    "    ])\n",
    "\n",
    "    dataset_train = datasets.ImageFolder(train_dir, transform=transform)\n",
    "    dataset_test = datasets.ImageFolder(val_dir, transform=transform_test)\n",
    "    with open('class.txt', 'w', encoding='utf-8') as file:\n",
    "        file.write(str(dataset_train.class_to_idx))\n",
    "    with open('class.json', 'w', encoding='utf-8') as file:\n",
    "        file.write(json.dumps(dataset_train.class_to_idx))\n",
    "    train_loader = torch.utils.data.DataLoader(dataset_train, batch_size = batch_size, shuffle=True)\n",
    "    test_loader = torch.utils.data.DataLoader(dataset_test, batch_size = batch_size, shuffle=False)\n",
    "    return train_loader,test_loader"
   ]
  },
  {
   "cell_type": "code",
   "execution_count": 25,
   "id": "eb11a235-7584-4c3c-9b5b-1bccf14e912f",
   "metadata": {},
   "outputs": [],
   "source": [
    "def train(model, teacher_model, criterionKD, criterionCls, train_dataloader, test_dataloader, \n",
    "          device, batch_size, num_epoch, learning_rate, optim, init=False, scheduler_type='Cosine'):\n",
    "    def init_xavier(m):\n",
    "        if type(m) == nn.Linear:\n",
    "            nn.init.xavier_normal_(m.weight)\n",
    "            \n",
    "    if init:\n",
    "        model.apply(init_xavier)\n",
    "        \n",
    "    print(f'Model is on device: {next(model.parameters()).device}')\n",
    "    print(\"teacher is on device:{}\".format(next(teacher_model.parameters()).device))\n",
    "    \n",
    "    print('training on:', device)\n",
    "    model.to(device)\n",
    "    \n",
    "    print(\"student_model is on device:{}\".format(next(model.parameters()).device))\n",
    "    print(\"teacher_model is on device:{}\".format(next(teacher_model.parameters()).device))\n",
    "    \n",
    "    if optim == 'sgd':\n",
    "        optimizer = torch.optim.SGD(model.parameters(), lr = learning_rate)\n",
    "    if optim == 'adam':\n",
    "        optimizer = torch.optim.Adam(model.parameters(), lr = learning_rate)\n",
    "    if optim == 'adamW':\n",
    "        optimizer = torch.optim.AdamW(model.parameters(), lr = learning_rate)\n",
    "    else:\n",
    "        optimizer = torch.optim.Adam(model.parameters(), lr = learning_rate)\n",
    "    if scheduler_type == 'Cosine':\n",
    "        scheduler = torch.optim.lr_scheduler.CosineAnnealingLR(optimizer=optimizer, T_max=20,eta_min=1e-9)\n",
    "    \n",
    "    train_losses = []\n",
    "    train_acces = []\n",
    "    eval_acces = []\n",
    "    best_acc = 0.0\n",
    "    \n",
    "    for epoch in range(1, num_epoch + 1):\n",
    "        model.train()\n",
    "        total_correct = 0\n",
    "        total_loss = 0\n",
    "        for (data, target) in tqdm(train_dataloader, desc = 'trainning'):\n",
    "            data, target =data.to(device), target.to(device)\n",
    "            l1_out_s,l2_out_s,l3_out_s,l4_out_s,fea_s, out_s = model(data)\n",
    "            cls_loss = criterionCls(out_s, target)\n",
    "            l1_out_t,l2_out_t,l3_out_t,l4_out_t,fea_t, out_t = teacher_model(data)\n",
    "            kd_loss = criterionKD([l3_out_s, l4_out_s, fea_s, out_s],\n",
    "                              [l3_out_t.detach(),\n",
    "                               l4_out_t.detach(),\n",
    "                               fea_t.detach(),\n",
    "                               out_t.detach()]) * lambda_kd\n",
    "            loss = cls_loss + kd_loss\n",
    "            optimizer.zero_grad()\n",
    "            loss.backward()\n",
    "            optimizer.step()\n",
    "            total_loss += loss.data.item()\n",
    "            _, pred = torch.max(out_s.data, 1)\n",
    "            total_correct += torch.sum(pred == target).item()\n",
    "        avg_loss = total_loss / len(train_dataloader)\n",
    "        accuracy = total_correct / len(train_dataloader.dataset)\n",
    "        print('Epoch: {}, train_loss: {:.4f}, train_accuracy: {}/{} ({:.0f}%)'.format(epoch,\n",
    "            avg_loss, total_correct, len(train_dataloader.dataset), 100 * accuracy))\n",
    "        train_acces.append(accuracy)\n",
    "        train_losses.append(avg_loss)\n",
    "        scheduler.step()\n",
    "        \n",
    "        model.eval()\n",
    "        total_correct = 0\n",
    "        total_loss = 0\n",
    "        with torch.no_grad():\n",
    "            for data, target in test_dataloader:\n",
    "                data, target = data.to(device), target.to(device)\n",
    "                _, _, _, _, _, out = model(data)\n",
    "                loss = criterionCls(out, target)\n",
    "                _,pred = torch.max(out.data, 1)\n",
    "                total_correct += torch.sum(pred == target).item()\n",
    "                total_loss += loss.data.item()\n",
    "            avg_loss = total_loss / len(test_dataloader)\n",
    "            accuracy = total_correct / len(test_dataloader.dataset)\n",
    "            if accuracy > best_acc:\n",
    "                best_acc = accuracy\n",
    "                torch.save(model.state_dict(), file_dir + '/' + str(accuracy) + 'best.pth')\n",
    "            eval_acces.append(accuracy)\n",
    "            print('Epoch: {}, test_loss: {:.4f}, test_accuracy: {}/{} ({:.0f}%)\\n'.format(epoch,\n",
    "            avg_loss, total_correct, len(test_dataloader.dataset), 100 * accuracy))"
   ]
  },
  {
   "cell_type": "code",
   "execution_count": null,
   "id": "fd57f21a-4c39-4004-9eea-a8fac1ca6b3f",
   "metadata": {},
   "outputs": [],
   "source": []
  },
  {
   "cell_type": "code",
   "execution_count": null,
   "id": "395f1984-5448-49af-bbc3-8fa60a654289",
   "metadata": {},
   "outputs": [],
   "source": []
  },
  {
   "cell_type": "code",
   "execution_count": 13,
   "id": "0b344455-f3ea-4640-95ef-7f52eec4bf67",
   "metadata": {},
   "outputs": [],
   "source": [
    "if __name__ == '__main__':\n",
    "    file_dir = 'kd_model'\n",
    "    if not os.path.isdir(file_dir):\n",
    "        os.makedirs(file_dir)"
   ]
  },
  {
   "cell_type": "code",
   "execution_count": 20,
   "id": "36be7092-f36a-4b84-906f-538e31450b64",
   "metadata": {},
   "outputs": [],
   "source": [
    "    learning_rate = 1e-4\n",
    "    optimizer = 'adam'\n",
    "    batch_size = 64\n",
    "    num_epoch = 100\n",
    "    device = torch.device('cuda' if torch.cuda.is_available() else 'cpu')\n",
    "    w_irg_vert=0.1\n",
    "    w_irg_edge=5.0\n",
    "    w_irg_tran=5.0\n",
    "    lambda_kd=1.0"
   ]
  },
  {
   "cell_type": "code",
   "execution_count": 15,
   "id": "8e91a8ad-95b1-4130-a964-8f84ec9120d6",
   "metadata": {},
   "outputs": [],
   "source": [
    "    train_dir = './data/train'\n",
    "    test_dir = './data/val'\n",
    "    train_dataloader, test_dataloader = get_dataloader(train_dir, test_dir, batch_size)"
   ]
  },
  {
   "cell_type": "code",
   "execution_count": 16,
   "id": "0c4a5b8f-5668-4fd0-bd9c-fa1df4eab72b",
   "metadata": {},
   "outputs": [],
   "source": [
    "    model = ResNet18()\n",
    "    model.fc = nn.Linear(model.fc.in_features, 12)\n",
    "    teacher_model = torch.load('./teacherNet/best.pth')\n",
    "    teacher_model.eval()\n",
    "    criterionKD = IRG(w_irg_vert, w_irg_edge, w_irg_tran)\n",
    "    criterionCls = nn.CrossEntropyLoss()"
   ]
  },
  {
   "cell_type": "code",
   "execution_count": 17,
   "id": "7ca92cd1-bb60-4708-a83c-4ff5582dcb60",
   "metadata": {},
   "outputs": [
    {
     "data": {
      "text/plain": [
       "device(type='cuda')"
      ]
     },
     "execution_count": 17,
     "metadata": {},
     "output_type": "execute_result"
    }
   ],
   "source": [
    "device"
   ]
  },
  {
   "cell_type": "code",
   "execution_count": 26,
   "id": "0a05a3a5-e2b0-4ee1-87b9-445b4fecaefe",
   "metadata": {},
   "outputs": [
    {
     "name": "stdout",
     "output_type": "stream",
     "text": [
      "Model is on device: cuda:0\n",
      "teacher is on device:cuda:0\n",
      "training on: cuda\n",
      "student_model is on device:cuda:0\n",
      "teacher_model is on device:cuda:0\n"
     ]
    },
    {
     "name": "stderr",
     "output_type": "stream",
     "text": [
      "trainning: 100%|██████████| 62/62 [01:44<00:00,  1.68s/it]\n"
     ]
    },
    {
     "name": "stdout",
     "output_type": "stream",
     "text": [
      "Epoch: 1, train_loss: 1.7463, train_accuracy: 3062/3961 (77%)\n",
      "Epoch: 1, test_loss: 1.7152, test_accuracy: 881/1698 (52%)\n",
      "\n"
     ]
    },
    {
     "name": "stderr",
     "output_type": "stream",
     "text": [
      "trainning: 100%|██████████| 62/62 [01:43<00:00,  1.68s/it]\n"
     ]
    },
    {
     "name": "stdout",
     "output_type": "stream",
     "text": [
      "Epoch: 2, train_loss: 1.4554, train_accuracy: 3233/3961 (82%)\n",
      "Epoch: 2, test_loss: 0.5655, test_accuracy: 1380/1698 (81%)\n",
      "\n"
     ]
    },
    {
     "name": "stderr",
     "output_type": "stream",
     "text": [
      "trainning: 100%|██████████| 62/62 [01:44<00:00,  1.68s/it]\n"
     ]
    },
    {
     "name": "stdout",
     "output_type": "stream",
     "text": [
      "Epoch: 3, train_loss: 1.2160, train_accuracy: 3370/3961 (85%)\n",
      "Epoch: 3, test_loss: 0.6009, test_accuracy: 1352/1698 (80%)\n",
      "\n"
     ]
    },
    {
     "name": "stderr",
     "output_type": "stream",
     "text": [
      "trainning: 100%|██████████| 62/62 [01:43<00:00,  1.67s/it]\n"
     ]
    },
    {
     "name": "stdout",
     "output_type": "stream",
     "text": [
      "Epoch: 4, train_loss: 1.1676, train_accuracy: 3403/3961 (86%)\n",
      "Epoch: 4, test_loss: 0.7546, test_accuracy: 1294/1698 (76%)\n",
      "\n"
     ]
    },
    {
     "name": "stderr",
     "output_type": "stream",
     "text": [
      "trainning: 100%|██████████| 62/62 [01:43<00:00,  1.68s/it]\n"
     ]
    },
    {
     "name": "stdout",
     "output_type": "stream",
     "text": [
      "Epoch: 5, train_loss: 1.0043, train_accuracy: 3489/3961 (88%)\n",
      "Epoch: 5, test_loss: 0.4974, test_accuracy: 1427/1698 (84%)\n",
      "\n"
     ]
    },
    {
     "name": "stderr",
     "output_type": "stream",
     "text": [
      "trainning: 100%|██████████| 62/62 [01:44<00:00,  1.69s/it]\n"
     ]
    },
    {
     "name": "stdout",
     "output_type": "stream",
     "text": [
      "Epoch: 6, train_loss: 0.9380, train_accuracy: 3525/3961 (89%)\n",
      "Epoch: 6, test_loss: 0.7010, test_accuracy: 1412/1698 (83%)\n",
      "\n"
     ]
    },
    {
     "name": "stderr",
     "output_type": "stream",
     "text": [
      "trainning: 100%|██████████| 62/62 [01:44<00:00,  1.69s/it]\n"
     ]
    },
    {
     "name": "stdout",
     "output_type": "stream",
     "text": [
      "Epoch: 7, train_loss: 0.7919, train_accuracy: 3569/3961 (90%)\n",
      "Epoch: 7, test_loss: 0.5603, test_accuracy: 1398/1698 (82%)\n",
      "\n"
     ]
    },
    {
     "name": "stderr",
     "output_type": "stream",
     "text": [
      "trainning: 100%|██████████| 62/62 [01:45<00:00,  1.70s/it]\n"
     ]
    },
    {
     "name": "stdout",
     "output_type": "stream",
     "text": [
      "Epoch: 8, train_loss: 0.7166, train_accuracy: 3638/3961 (92%)\n",
      "Epoch: 8, test_loss: 0.3402, test_accuracy: 1515/1698 (89%)\n",
      "\n"
     ]
    },
    {
     "name": "stderr",
     "output_type": "stream",
     "text": [
      "trainning: 100%|██████████| 62/62 [01:45<00:00,  1.70s/it]\n"
     ]
    },
    {
     "name": "stdout",
     "output_type": "stream",
     "text": [
      "Epoch: 9, train_loss: 0.7022, train_accuracy: 3670/3961 (93%)\n",
      "Epoch: 9, test_loss: 0.3825, test_accuracy: 1490/1698 (88%)\n",
      "\n"
     ]
    },
    {
     "name": "stderr",
     "output_type": "stream",
     "text": [
      "trainning: 100%|██████████| 62/62 [01:45<00:00,  1.70s/it]\n"
     ]
    },
    {
     "name": "stdout",
     "output_type": "stream",
     "text": [
      "Epoch: 10, train_loss: 0.6185, train_accuracy: 3701/3961 (93%)\n",
      "Epoch: 10, test_loss: 0.4795, test_accuracy: 1438/1698 (85%)\n",
      "\n"
     ]
    },
    {
     "name": "stderr",
     "output_type": "stream",
     "text": [
      "trainning: 100%|██████████| 62/62 [01:45<00:00,  1.71s/it]\n"
     ]
    },
    {
     "name": "stdout",
     "output_type": "stream",
     "text": [
      "Epoch: 11, train_loss: 0.5558, train_accuracy: 3726/3961 (94%)\n",
      "Epoch: 11, test_loss: 0.5359, test_accuracy: 1472/1698 (87%)\n",
      "\n"
     ]
    },
    {
     "name": "stderr",
     "output_type": "stream",
     "text": [
      "trainning: 100%|██████████| 62/62 [01:45<00:00,  1.70s/it]\n"
     ]
    },
    {
     "name": "stdout",
     "output_type": "stream",
     "text": [
      "Epoch: 12, train_loss: 0.4833, train_accuracy: 3776/3961 (95%)\n",
      "Epoch: 12, test_loss: 0.2876, test_accuracy: 1552/1698 (91%)\n",
      "\n"
     ]
    },
    {
     "name": "stderr",
     "output_type": "stream",
     "text": [
      "trainning: 100%|██████████| 62/62 [01:45<00:00,  1.70s/it]\n"
     ]
    },
    {
     "name": "stdout",
     "output_type": "stream",
     "text": [
      "Epoch: 13, train_loss: 0.4624, train_accuracy: 3792/3961 (96%)\n",
      "Epoch: 13, test_loss: 0.3158, test_accuracy: 1538/1698 (91%)\n",
      "\n"
     ]
    },
    {
     "name": "stderr",
     "output_type": "stream",
     "text": [
      "trainning: 100%|██████████| 62/62 [01:45<00:00,  1.70s/it]\n"
     ]
    },
    {
     "name": "stdout",
     "output_type": "stream",
     "text": [
      "Epoch: 14, train_loss: 0.4003, train_accuracy: 3831/3961 (97%)\n",
      "Epoch: 14, test_loss: 0.3176, test_accuracy: 1550/1698 (91%)\n",
      "\n"
     ]
    },
    {
     "name": "stderr",
     "output_type": "stream",
     "text": [
      "trainning: 100%|██████████| 62/62 [01:46<00:00,  1.72s/it]\n"
     ]
    },
    {
     "name": "stdout",
     "output_type": "stream",
     "text": [
      "Epoch: 15, train_loss: 0.3736, train_accuracy: 3841/3961 (97%)\n",
      "Epoch: 15, test_loss: 0.3173, test_accuracy: 1544/1698 (91%)\n",
      "\n"
     ]
    },
    {
     "name": "stderr",
     "output_type": "stream",
     "text": [
      "trainning: 100%|██████████| 62/62 [01:45<00:00,  1.71s/it]\n"
     ]
    },
    {
     "name": "stdout",
     "output_type": "stream",
     "text": [
      "Epoch: 16, train_loss: 0.3633, train_accuracy: 3847/3961 (97%)\n",
      "Epoch: 16, test_loss: 0.2681, test_accuracy: 1571/1698 (93%)\n",
      "\n"
     ]
    },
    {
     "name": "stderr",
     "output_type": "stream",
     "text": [
      "trainning: 100%|██████████| 62/62 [01:45<00:00,  1.70s/it]\n"
     ]
    },
    {
     "name": "stdout",
     "output_type": "stream",
     "text": [
      "Epoch: 17, train_loss: 0.3443, train_accuracy: 3857/3961 (97%)\n",
      "Epoch: 17, test_loss: 0.3026, test_accuracy: 1547/1698 (91%)\n",
      "\n"
     ]
    },
    {
     "name": "stderr",
     "output_type": "stream",
     "text": [
      "trainning: 100%|██████████| 62/62 [01:46<00:00,  1.71s/it]\n"
     ]
    },
    {
     "name": "stdout",
     "output_type": "stream",
     "text": [
      "Epoch: 18, train_loss: 0.3244, train_accuracy: 3866/3961 (98%)\n",
      "Epoch: 18, test_loss: 0.2631, test_accuracy: 1573/1698 (93%)\n",
      "\n"
     ]
    },
    {
     "name": "stderr",
     "output_type": "stream",
     "text": [
      "trainning: 100%|██████████| 62/62 [01:46<00:00,  1.71s/it]\n"
     ]
    },
    {
     "name": "stdout",
     "output_type": "stream",
     "text": [
      "Epoch: 19, train_loss: 0.3136, train_accuracy: 3860/3961 (97%)\n",
      "Epoch: 19, test_loss: 0.2716, test_accuracy: 1575/1698 (93%)\n",
      "\n"
     ]
    },
    {
     "name": "stderr",
     "output_type": "stream",
     "text": [
      "trainning: 100%|██████████| 62/62 [01:46<00:00,  1.71s/it]\n"
     ]
    },
    {
     "name": "stdout",
     "output_type": "stream",
     "text": [
      "Epoch: 20, train_loss: 0.3040, train_accuracy: 3878/3961 (98%)\n",
      "Epoch: 20, test_loss: 0.2637, test_accuracy: 1579/1698 (93%)\n",
      "\n"
     ]
    },
    {
     "name": "stderr",
     "output_type": "stream",
     "text": [
      "trainning: 100%|██████████| 62/62 [01:46<00:00,  1.73s/it]\n"
     ]
    },
    {
     "name": "stdout",
     "output_type": "stream",
     "text": [
      "Epoch: 21, train_loss: 0.3031, train_accuracy: 3879/3961 (98%)\n",
      "Epoch: 21, test_loss: 0.2632, test_accuracy: 1583/1698 (93%)\n",
      "\n"
     ]
    },
    {
     "name": "stderr",
     "output_type": "stream",
     "text": [
      "trainning: 100%|██████████| 62/62 [01:47<00:00,  1.73s/it]\n"
     ]
    },
    {
     "name": "stdout",
     "output_type": "stream",
     "text": [
      "Epoch: 22, train_loss: 0.3081, train_accuracy: 3883/3961 (98%)\n",
      "Epoch: 22, test_loss: 0.2639, test_accuracy: 1579/1698 (93%)\n",
      "\n"
     ]
    },
    {
     "name": "stderr",
     "output_type": "stream",
     "text": [
      "trainning: 100%|██████████| 62/62 [01:46<00:00,  1.71s/it]\n"
     ]
    },
    {
     "name": "stdout",
     "output_type": "stream",
     "text": [
      "Epoch: 23, train_loss: 0.3100, train_accuracy: 3874/3961 (98%)\n",
      "Epoch: 23, test_loss: 0.2676, test_accuracy: 1577/1698 (93%)\n",
      "\n"
     ]
    },
    {
     "name": "stderr",
     "output_type": "stream",
     "text": [
      "trainning: 100%|██████████| 62/62 [01:47<00:00,  1.73s/it]\n"
     ]
    },
    {
     "name": "stdout",
     "output_type": "stream",
     "text": [
      "Epoch: 24, train_loss: 0.2993, train_accuracy: 3876/3961 (98%)\n",
      "Epoch: 24, test_loss: 0.2736, test_accuracy: 1571/1698 (93%)\n",
      "\n"
     ]
    },
    {
     "name": "stderr",
     "output_type": "stream",
     "text": [
      "trainning: 100%|██████████| 62/62 [01:47<00:00,  1.74s/it]\n"
     ]
    },
    {
     "name": "stdout",
     "output_type": "stream",
     "text": [
      "Epoch: 25, train_loss: 0.3068, train_accuracy: 3884/3961 (98%)\n",
      "Epoch: 25, test_loss: 0.2951, test_accuracy: 1553/1698 (91%)\n",
      "\n"
     ]
    },
    {
     "name": "stderr",
     "output_type": "stream",
     "text": [
      "trainning: 100%|██████████| 62/62 [01:47<00:00,  1.73s/it]\n"
     ]
    },
    {
     "name": "stdout",
     "output_type": "stream",
     "text": [
      "Epoch: 26, train_loss: 0.3181, train_accuracy: 3873/3961 (98%)\n",
      "Epoch: 26, test_loss: 0.3203, test_accuracy: 1567/1698 (92%)\n",
      "\n"
     ]
    },
    {
     "name": "stderr",
     "output_type": "stream",
     "text": [
      "trainning: 100%|██████████| 62/62 [01:47<00:00,  1.73s/it]\n"
     ]
    },
    {
     "name": "stdout",
     "output_type": "stream",
     "text": [
      "Epoch: 27, train_loss: 0.3652, train_accuracy: 3841/3961 (97%)\n",
      "Epoch: 27, test_loss: 0.3260, test_accuracy: 1542/1698 (91%)\n",
      "\n"
     ]
    },
    {
     "name": "stderr",
     "output_type": "stream",
     "text": [
      "trainning: 100%|██████████| 62/62 [01:48<00:00,  1.76s/it]\n"
     ]
    },
    {
     "name": "stdout",
     "output_type": "stream",
     "text": [
      "Epoch: 28, train_loss: 0.3491, train_accuracy: 3840/3961 (97%)\n",
      "Epoch: 28, test_loss: 0.4284, test_accuracy: 1475/1698 (87%)\n",
      "\n"
     ]
    },
    {
     "name": "stderr",
     "output_type": "stream",
     "text": [
      "trainning: 100%|██████████| 62/62 [01:54<00:00,  1.84s/it]\n"
     ]
    },
    {
     "name": "stdout",
     "output_type": "stream",
     "text": [
      "Epoch: 29, train_loss: 0.3450, train_accuracy: 3845/3961 (97%)\n",
      "Epoch: 29, test_loss: 0.3469, test_accuracy: 1537/1698 (91%)\n",
      "\n"
     ]
    },
    {
     "name": "stderr",
     "output_type": "stream",
     "text": [
      "trainning: 100%|██████████| 62/62 [01:47<00:00,  1.73s/it]\n"
     ]
    },
    {
     "name": "stdout",
     "output_type": "stream",
     "text": [
      "Epoch: 30, train_loss: 0.4007, train_accuracy: 3835/3961 (97%)\n",
      "Epoch: 30, test_loss: 0.3990, test_accuracy: 1506/1698 (89%)\n",
      "\n"
     ]
    },
    {
     "name": "stderr",
     "output_type": "stream",
     "text": [
      "trainning: 100%|██████████| 62/62 [01:47<00:00,  1.74s/it]\n"
     ]
    },
    {
     "name": "stdout",
     "output_type": "stream",
     "text": [
      "Epoch: 31, train_loss: 0.3887, train_accuracy: 3829/3961 (97%)\n",
      "Epoch: 31, test_loss: 0.3369, test_accuracy: 1540/1698 (91%)\n",
      "\n"
     ]
    },
    {
     "name": "stderr",
     "output_type": "stream",
     "text": [
      "trainning: 100%|██████████| 62/62 [01:47<00:00,  1.74s/it]\n"
     ]
    },
    {
     "name": "stdout",
     "output_type": "stream",
     "text": [
      "Epoch: 32, train_loss: 0.4406, train_accuracy: 3790/3961 (96%)\n",
      "Epoch: 32, test_loss: 0.4779, test_accuracy: 1436/1698 (85%)\n",
      "\n"
     ]
    },
    {
     "name": "stderr",
     "output_type": "stream",
     "text": [
      "trainning: 100%|██████████| 62/62 [01:48<00:00,  1.75s/it]\n"
     ]
    },
    {
     "name": "stdout",
     "output_type": "stream",
     "text": [
      "Epoch: 33, train_loss: 0.4299, train_accuracy: 3794/3961 (96%)\n",
      "Epoch: 33, test_loss: 0.4025, test_accuracy: 1503/1698 (89%)\n",
      "\n"
     ]
    },
    {
     "name": "stderr",
     "output_type": "stream",
     "text": [
      "trainning: 100%|██████████| 62/62 [01:48<00:00,  1.75s/it]\n"
     ]
    },
    {
     "name": "stdout",
     "output_type": "stream",
     "text": [
      "Epoch: 34, train_loss: 0.4407, train_accuracy: 3798/3961 (96%)\n",
      "Epoch: 34, test_loss: 0.3988, test_accuracy: 1526/1698 (90%)\n",
      "\n"
     ]
    },
    {
     "name": "stderr",
     "output_type": "stream",
     "text": [
      "trainning: 100%|██████████| 62/62 [01:47<00:00,  1.74s/it]\n"
     ]
    },
    {
     "name": "stdout",
     "output_type": "stream",
     "text": [
      "Epoch: 35, train_loss: 0.4674, train_accuracy: 3774/3961 (95%)\n",
      "Epoch: 35, test_loss: 0.5797, test_accuracy: 1428/1698 (84%)\n",
      "\n"
     ]
    },
    {
     "name": "stderr",
     "output_type": "stream",
     "text": [
      "trainning: 100%|██████████| 62/62 [01:48<00:00,  1.75s/it]\n"
     ]
    },
    {
     "name": "stdout",
     "output_type": "stream",
     "text": [
      "Epoch: 36, train_loss: 0.5039, train_accuracy: 3755/3961 (95%)\n",
      "Epoch: 36, test_loss: 0.5116, test_accuracy: 1438/1698 (85%)\n",
      "\n"
     ]
    },
    {
     "name": "stderr",
     "output_type": "stream",
     "text": [
      "trainning: 100%|██████████| 62/62 [01:48<00:00,  1.74s/it]\n"
     ]
    },
    {
     "name": "stdout",
     "output_type": "stream",
     "text": [
      "Epoch: 37, train_loss: 0.4155, train_accuracy: 3834/3961 (97%)\n",
      "Epoch: 37, test_loss: 1.6445, test_accuracy: 1124/1698 (66%)\n",
      "\n"
     ]
    },
    {
     "name": "stderr",
     "output_type": "stream",
     "text": [
      "trainning: 100%|██████████| 62/62 [01:48<00:00,  1.75s/it]\n"
     ]
    },
    {
     "name": "stdout",
     "output_type": "stream",
     "text": [
      "Epoch: 38, train_loss: 0.5236, train_accuracy: 3775/3961 (95%)\n",
      "Epoch: 38, test_loss: 0.4471, test_accuracy: 1498/1698 (88%)\n",
      "\n"
     ]
    },
    {
     "name": "stderr",
     "output_type": "stream",
     "text": [
      "trainning: 100%|██████████| 62/62 [01:47<00:00,  1.74s/it]\n"
     ]
    },
    {
     "name": "stdout",
     "output_type": "stream",
     "text": [
      "Epoch: 39, train_loss: 0.3969, train_accuracy: 3821/3961 (96%)\n",
      "Epoch: 39, test_loss: 1.5731, test_accuracy: 1120/1698 (66%)\n",
      "\n"
     ]
    },
    {
     "name": "stderr",
     "output_type": "stream",
     "text": [
      "trainning: 100%|██████████| 62/62 [01:47<00:00,  1.73s/it]\n"
     ]
    },
    {
     "name": "stdout",
     "output_type": "stream",
     "text": [
      "Epoch: 40, train_loss: 0.4184, train_accuracy: 3804/3961 (96%)\n",
      "Epoch: 40, test_loss: 0.7256, test_accuracy: 1362/1698 (80%)\n",
      "\n"
     ]
    },
    {
     "name": "stderr",
     "output_type": "stream",
     "text": [
      "trainning: 100%|██████████| 62/62 [01:47<00:00,  1.73s/it]\n"
     ]
    },
    {
     "name": "stdout",
     "output_type": "stream",
     "text": [
      "Epoch: 41, train_loss: 0.4320, train_accuracy: 3818/3961 (96%)\n",
      "Epoch: 41, test_loss: 0.8370, test_accuracy: 1404/1698 (83%)\n",
      "\n"
     ]
    },
    {
     "name": "stderr",
     "output_type": "stream",
     "text": [
      "trainning: 100%|██████████| 62/62 [01:47<00:00,  1.74s/it]\n"
     ]
    },
    {
     "name": "stdout",
     "output_type": "stream",
     "text": [
      "Epoch: 42, train_loss: 0.4048, train_accuracy: 3832/3961 (97%)\n",
      "Epoch: 42, test_loss: 0.3589, test_accuracy: 1523/1698 (90%)\n",
      "\n"
     ]
    },
    {
     "name": "stderr",
     "output_type": "stream",
     "text": [
      "trainning: 100%|██████████| 62/62 [01:48<00:00,  1.75s/it]\n"
     ]
    },
    {
     "name": "stdout",
     "output_type": "stream",
     "text": [
      "Epoch: 43, train_loss: 0.3280, train_accuracy: 3874/3961 (98%)\n",
      "Epoch: 43, test_loss: 0.4823, test_accuracy: 1471/1698 (87%)\n",
      "\n"
     ]
    },
    {
     "name": "stderr",
     "output_type": "stream",
     "text": [
      "trainning: 100%|██████████| 62/62 [01:46<00:00,  1.72s/it]\n"
     ]
    },
    {
     "name": "stdout",
     "output_type": "stream",
     "text": [
      "Epoch: 44, train_loss: 0.3174, train_accuracy: 3868/3961 (98%)\n",
      "Epoch: 44, test_loss: 1.7035, test_accuracy: 1350/1698 (80%)\n",
      "\n"
     ]
    },
    {
     "name": "stderr",
     "output_type": "stream",
     "text": [
      "trainning: 100%|██████████| 62/62 [01:47<00:00,  1.74s/it]\n"
     ]
    },
    {
     "name": "stdout",
     "output_type": "stream",
     "text": [
      "Epoch: 45, train_loss: 0.2853, train_accuracy: 3889/3961 (98%)\n",
      "Epoch: 45, test_loss: 0.3743, test_accuracy: 1547/1698 (91%)\n",
      "\n"
     ]
    },
    {
     "name": "stderr",
     "output_type": "stream",
     "text": [
      "trainning: 100%|██████████| 62/62 [01:47<00:00,  1.73s/it]\n"
     ]
    },
    {
     "name": "stdout",
     "output_type": "stream",
     "text": [
      "Epoch: 46, train_loss: 0.2458, train_accuracy: 3912/3961 (99%)\n",
      "Epoch: 46, test_loss: 0.3068, test_accuracy: 1572/1698 (93%)\n",
      "\n"
     ]
    },
    {
     "name": "stderr",
     "output_type": "stream",
     "text": [
      "trainning: 100%|██████████| 62/62 [01:47<00:00,  1.74s/it]\n"
     ]
    },
    {
     "name": "stdout",
     "output_type": "stream",
     "text": [
      "Epoch: 47, train_loss: 0.2303, train_accuracy: 3917/3961 (99%)\n",
      "Epoch: 47, test_loss: 0.3564, test_accuracy: 1549/1698 (91%)\n",
      "\n"
     ]
    },
    {
     "name": "stderr",
     "output_type": "stream",
     "text": [
      "trainning: 100%|██████████| 62/62 [01:47<00:00,  1.73s/it]\n"
     ]
    },
    {
     "name": "stdout",
     "output_type": "stream",
     "text": [
      "Epoch: 48, train_loss: 0.2017, train_accuracy: 3919/3961 (99%)\n",
      "Epoch: 48, test_loss: 0.3399, test_accuracy: 1550/1698 (91%)\n",
      "\n"
     ]
    },
    {
     "name": "stderr",
     "output_type": "stream",
     "text": [
      "trainning: 100%|██████████| 62/62 [01:48<00:00,  1.74s/it]\n"
     ]
    },
    {
     "name": "stdout",
     "output_type": "stream",
     "text": [
      "Epoch: 49, train_loss: 0.1925, train_accuracy: 3939/3961 (99%)\n",
      "Epoch: 49, test_loss: 0.3907, test_accuracy: 1527/1698 (90%)\n",
      "\n"
     ]
    },
    {
     "name": "stderr",
     "output_type": "stream",
     "text": [
      "trainning: 100%|██████████| 62/62 [01:47<00:00,  1.74s/it]\n"
     ]
    },
    {
     "name": "stdout",
     "output_type": "stream",
     "text": [
      "Epoch: 50, train_loss: 0.1851, train_accuracy: 3940/3961 (99%)\n",
      "Epoch: 50, test_loss: 1.5306, test_accuracy: 1418/1698 (84%)\n",
      "\n"
     ]
    },
    {
     "name": "stderr",
     "output_type": "stream",
     "text": [
      "trainning: 100%|██████████| 62/62 [01:48<00:00,  1.74s/it]\n"
     ]
    },
    {
     "name": "stdout",
     "output_type": "stream",
     "text": [
      "Epoch: 51, train_loss: 0.1788, train_accuracy: 3943/3961 (100%)\n",
      "Epoch: 51, test_loss: 0.3257, test_accuracy: 1571/1698 (93%)\n",
      "\n"
     ]
    },
    {
     "name": "stderr",
     "output_type": "stream",
     "text": [
      "trainning: 100%|██████████| 62/62 [01:47<00:00,  1.74s/it]\n"
     ]
    },
    {
     "name": "stdout",
     "output_type": "stream",
     "text": [
      "Epoch: 52, train_loss: 0.1808, train_accuracy: 3946/3961 (100%)\n",
      "Epoch: 52, test_loss: 0.3203, test_accuracy: 1570/1698 (92%)\n",
      "\n"
     ]
    },
    {
     "name": "stderr",
     "output_type": "stream",
     "text": [
      "trainning: 100%|██████████| 62/62 [01:47<00:00,  1.73s/it]\n"
     ]
    },
    {
     "name": "stdout",
     "output_type": "stream",
     "text": [
      "Epoch: 53, train_loss: 0.1659, train_accuracy: 3944/3961 (100%)\n",
      "Epoch: 53, test_loss: 0.2948, test_accuracy: 1588/1698 (94%)\n",
      "\n"
     ]
    },
    {
     "name": "stderr",
     "output_type": "stream",
     "text": [
      "trainning: 100%|██████████| 62/62 [01:45<00:00,  1.71s/it]\n"
     ]
    },
    {
     "name": "stdout",
     "output_type": "stream",
     "text": [
      "Epoch: 54, train_loss: 0.1577, train_accuracy: 3940/3961 (99%)\n",
      "Epoch: 54, test_loss: 0.2850, test_accuracy: 1580/1698 (93%)\n",
      "\n"
     ]
    },
    {
     "name": "stderr",
     "output_type": "stream",
     "text": [
      "trainning: 100%|██████████| 62/62 [01:46<00:00,  1.71s/it]\n"
     ]
    },
    {
     "name": "stdout",
     "output_type": "stream",
     "text": [
      "Epoch: 55, train_loss: 0.1513, train_accuracy: 3947/3961 (100%)\n",
      "Epoch: 55, test_loss: 0.2843, test_accuracy: 1586/1698 (93%)\n",
      "\n"
     ]
    },
    {
     "name": "stderr",
     "output_type": "stream",
     "text": [
      "trainning: 100%|██████████| 62/62 [01:47<00:00,  1.73s/it]\n"
     ]
    },
    {
     "name": "stdout",
     "output_type": "stream",
     "text": [
      "Epoch: 56, train_loss: 0.1415, train_accuracy: 3950/3961 (100%)\n",
      "Epoch: 56, test_loss: 0.2834, test_accuracy: 1586/1698 (93%)\n",
      "\n"
     ]
    },
    {
     "name": "stderr",
     "output_type": "stream",
     "text": [
      "trainning: 100%|██████████| 62/62 [01:46<00:00,  1.72s/it]\n"
     ]
    },
    {
     "name": "stdout",
     "output_type": "stream",
     "text": [
      "Epoch: 57, train_loss: 0.1324, train_accuracy: 3952/3961 (100%)\n",
      "Epoch: 57, test_loss: 0.2828, test_accuracy: 1586/1698 (93%)\n",
      "\n"
     ]
    },
    {
     "name": "stderr",
     "output_type": "stream",
     "text": [
      "trainning: 100%|██████████| 62/62 [01:46<00:00,  1.71s/it]\n"
     ]
    },
    {
     "name": "stdout",
     "output_type": "stream",
     "text": [
      "Epoch: 58, train_loss: 0.1286, train_accuracy: 3948/3961 (100%)\n",
      "Epoch: 58, test_loss: 0.2908, test_accuracy: 1594/1698 (94%)\n",
      "\n"
     ]
    },
    {
     "name": "stderr",
     "output_type": "stream",
     "text": [
      "trainning: 100%|██████████| 62/62 [01:46<00:00,  1.71s/it]\n"
     ]
    },
    {
     "name": "stdout",
     "output_type": "stream",
     "text": [
      "Epoch: 59, train_loss: 0.1341, train_accuracy: 3955/3961 (100%)\n",
      "Epoch: 59, test_loss: 0.2863, test_accuracy: 1588/1698 (94%)\n",
      "\n"
     ]
    },
    {
     "name": "stderr",
     "output_type": "stream",
     "text": [
      "trainning: 100%|██████████| 62/62 [01:46<00:00,  1.71s/it]\n"
     ]
    },
    {
     "name": "stdout",
     "output_type": "stream",
     "text": [
      "Epoch: 60, train_loss: 0.1312, train_accuracy: 3954/3961 (100%)\n",
      "Epoch: 60, test_loss: 0.2830, test_accuracy: 1590/1698 (94%)\n",
      "\n"
     ]
    },
    {
     "name": "stderr",
     "output_type": "stream",
     "text": [
      "trainning: 100%|██████████| 62/62 [01:46<00:00,  1.72s/it]\n"
     ]
    },
    {
     "name": "stdout",
     "output_type": "stream",
     "text": [
      "Epoch: 61, train_loss: 0.1316, train_accuracy: 3952/3961 (100%)\n",
      "Epoch: 61, test_loss: 0.2876, test_accuracy: 1586/1698 (93%)\n",
      "\n"
     ]
    },
    {
     "name": "stderr",
     "output_type": "stream",
     "text": [
      "trainning: 100%|██████████| 62/62 [01:49<00:00,  1.76s/it]\n"
     ]
    },
    {
     "name": "stdout",
     "output_type": "stream",
     "text": [
      "Epoch: 62, train_loss: 0.1309, train_accuracy: 3954/3961 (100%)\n",
      "Epoch: 62, test_loss: 0.2870, test_accuracy: 1590/1698 (94%)\n",
      "\n"
     ]
    },
    {
     "name": "stderr",
     "output_type": "stream",
     "text": [
      "trainning: 100%|██████████| 62/62 [01:46<00:00,  1.72s/it]\n"
     ]
    },
    {
     "name": "stdout",
     "output_type": "stream",
     "text": [
      "Epoch: 63, train_loss: 0.1287, train_accuracy: 3958/3961 (100%)\n",
      "Epoch: 63, test_loss: 0.2870, test_accuracy: 1584/1698 (93%)\n",
      "\n"
     ]
    },
    {
     "name": "stderr",
     "output_type": "stream",
     "text": [
      "trainning: 100%|██████████| 62/62 [01:46<00:00,  1.72s/it]\n"
     ]
    },
    {
     "name": "stdout",
     "output_type": "stream",
     "text": [
      "Epoch: 64, train_loss: 0.1331, train_accuracy: 3951/3961 (100%)\n",
      "Epoch: 64, test_loss: 0.2859, test_accuracy: 1588/1698 (94%)\n",
      "\n"
     ]
    },
    {
     "name": "stderr",
     "output_type": "stream",
     "text": [
      "trainning: 100%|██████████| 62/62 [01:46<00:00,  1.72s/it]\n"
     ]
    },
    {
     "name": "stdout",
     "output_type": "stream",
     "text": [
      "Epoch: 65, train_loss: 0.1301, train_accuracy: 3953/3961 (100%)\n",
      "Epoch: 65, test_loss: 0.2914, test_accuracy: 1591/1698 (94%)\n",
      "\n"
     ]
    },
    {
     "name": "stderr",
     "output_type": "stream",
     "text": [
      "trainning: 100%|██████████| 62/62 [01:46<00:00,  1.72s/it]\n"
     ]
    },
    {
     "name": "stdout",
     "output_type": "stream",
     "text": [
      "Epoch: 66, train_loss: 0.1269, train_accuracy: 3957/3961 (100%)\n",
      "Epoch: 66, test_loss: 0.2962, test_accuracy: 1591/1698 (94%)\n",
      "\n"
     ]
    },
    {
     "name": "stderr",
     "output_type": "stream",
     "text": [
      "trainning: 100%|██████████| 62/62 [01:44<00:00,  1.68s/it]\n"
     ]
    },
    {
     "name": "stdout",
     "output_type": "stream",
     "text": [
      "Epoch: 67, train_loss: 0.1370, train_accuracy: 3948/3961 (100%)\n",
      "Epoch: 67, test_loss: 0.2956, test_accuracy: 1579/1698 (93%)\n",
      "\n"
     ]
    },
    {
     "name": "stderr",
     "output_type": "stream",
     "text": [
      "trainning: 100%|██████████| 62/62 [01:46<00:00,  1.72s/it]\n"
     ]
    },
    {
     "name": "stdout",
     "output_type": "stream",
     "text": [
      "Epoch: 68, train_loss: 0.1355, train_accuracy: 3951/3961 (100%)\n",
      "Epoch: 68, test_loss: 0.3191, test_accuracy: 1580/1698 (93%)\n",
      "\n"
     ]
    },
    {
     "name": "stderr",
     "output_type": "stream",
     "text": [
      "trainning: 100%|██████████| 62/62 [01:46<00:00,  1.72s/it]\n"
     ]
    },
    {
     "name": "stdout",
     "output_type": "stream",
     "text": [
      "Epoch: 69, train_loss: 0.1573, train_accuracy: 3949/3961 (100%)\n",
      "Epoch: 69, test_loss: 0.3144, test_accuracy: 1585/1698 (93%)\n",
      "\n"
     ]
    },
    {
     "name": "stderr",
     "output_type": "stream",
     "text": [
      "trainning: 100%|██████████| 62/62 [01:45<00:00,  1.71s/it]\n"
     ]
    },
    {
     "name": "stdout",
     "output_type": "stream",
     "text": [
      "Epoch: 70, train_loss: 0.1610, train_accuracy: 3944/3961 (100%)\n",
      "Epoch: 70, test_loss: 0.2995, test_accuracy: 1577/1698 (93%)\n",
      "\n"
     ]
    },
    {
     "name": "stderr",
     "output_type": "stream",
     "text": [
      "trainning: 100%|██████████| 62/62 [01:47<00:00,  1.74s/it]\n"
     ]
    },
    {
     "name": "stdout",
     "output_type": "stream",
     "text": [
      "Epoch: 71, train_loss: 0.1606, train_accuracy: 3944/3961 (100%)\n",
      "Epoch: 71, test_loss: 0.3491, test_accuracy: 1571/1698 (93%)\n",
      "\n"
     ]
    },
    {
     "name": "stderr",
     "output_type": "stream",
     "text": [
      "trainning: 100%|██████████| 62/62 [01:48<00:00,  1.74s/it]\n"
     ]
    },
    {
     "name": "stdout",
     "output_type": "stream",
     "text": [
      "Epoch: 72, train_loss: 0.1878, train_accuracy: 3935/3961 (99%)\n",
      "Epoch: 72, test_loss: 0.3518, test_accuracy: 1550/1698 (91%)\n",
      "\n"
     ]
    },
    {
     "name": "stderr",
     "output_type": "stream",
     "text": [
      "trainning: 100%|██████████| 62/62 [01:46<00:00,  1.72s/it]\n"
     ]
    },
    {
     "name": "stdout",
     "output_type": "stream",
     "text": [
      "Epoch: 73, train_loss: 0.2330, train_accuracy: 3919/3961 (99%)\n",
      "Epoch: 73, test_loss: 0.4306, test_accuracy: 1498/1698 (88%)\n",
      "\n"
     ]
    },
    {
     "name": "stderr",
     "output_type": "stream",
     "text": [
      "trainning: 100%|██████████| 62/62 [01:47<00:00,  1.73s/it]\n"
     ]
    },
    {
     "name": "stdout",
     "output_type": "stream",
     "text": [
      "Epoch: 74, train_loss: 0.2604, train_accuracy: 3909/3961 (99%)\n",
      "Epoch: 74, test_loss: 0.4441, test_accuracy: 1513/1698 (89%)\n",
      "\n"
     ]
    },
    {
     "name": "stderr",
     "output_type": "stream",
     "text": [
      "trainning: 100%|██████████| 62/62 [01:47<00:00,  1.73s/it]\n"
     ]
    },
    {
     "name": "stdout",
     "output_type": "stream",
     "text": [
      "Epoch: 75, train_loss: 0.2663, train_accuracy: 3895/3961 (98%)\n",
      "Epoch: 75, test_loss: 0.7804, test_accuracy: 1434/1698 (84%)\n",
      "\n"
     ]
    },
    {
     "name": "stderr",
     "output_type": "stream",
     "text": [
      "trainning: 100%|██████████| 62/62 [01:46<00:00,  1.72s/it]\n"
     ]
    },
    {
     "name": "stdout",
     "output_type": "stream",
     "text": [
      "Epoch: 76, train_loss: 0.3021, train_accuracy: 3886/3961 (98%)\n",
      "Epoch: 76, test_loss: 0.3742, test_accuracy: 1536/1698 (90%)\n",
      "\n"
     ]
    },
    {
     "name": "stderr",
     "output_type": "stream",
     "text": [
      "trainning: 100%|██████████| 62/62 [01:46<00:00,  1.73s/it]\n"
     ]
    },
    {
     "name": "stdout",
     "output_type": "stream",
     "text": [
      "Epoch: 77, train_loss: 0.2839, train_accuracy: 3887/3961 (98%)\n",
      "Epoch: 77, test_loss: 1.2898, test_accuracy: 1329/1698 (78%)\n",
      "\n"
     ]
    },
    {
     "name": "stderr",
     "output_type": "stream",
     "text": [
      "trainning: 100%|██████████| 62/62 [01:46<00:00,  1.72s/it]\n"
     ]
    },
    {
     "name": "stdout",
     "output_type": "stream",
     "text": [
      "Epoch: 78, train_loss: 0.3234, train_accuracy: 3869/3961 (98%)\n",
      "Epoch: 78, test_loss: 0.4299, test_accuracy: 1530/1698 (90%)\n",
      "\n"
     ]
    },
    {
     "name": "stderr",
     "output_type": "stream",
     "text": [
      "trainning: 100%|██████████| 62/62 [01:46<00:00,  1.72s/it]\n"
     ]
    },
    {
     "name": "stdout",
     "output_type": "stream",
     "text": [
      "Epoch: 79, train_loss: 0.2590, train_accuracy: 3904/3961 (99%)\n",
      "Epoch: 79, test_loss: 0.3415, test_accuracy: 1555/1698 (92%)\n",
      "\n"
     ]
    },
    {
     "name": "stderr",
     "output_type": "stream",
     "text": [
      "trainning: 100%|██████████| 62/62 [01:47<00:00,  1.74s/it]\n"
     ]
    },
    {
     "name": "stdout",
     "output_type": "stream",
     "text": [
      "Epoch: 80, train_loss: 0.2435, train_accuracy: 3923/3961 (99%)\n",
      "Epoch: 80, test_loss: 0.5956, test_accuracy: 1473/1698 (87%)\n",
      "\n"
     ]
    },
    {
     "name": "stderr",
     "output_type": "stream",
     "text": [
      "trainning: 100%|██████████| 62/62 [01:47<00:00,  1.74s/it]\n"
     ]
    },
    {
     "name": "stdout",
     "output_type": "stream",
     "text": [
      "Epoch: 81, train_loss: 0.2114, train_accuracy: 3924/3961 (99%)\n",
      "Epoch: 81, test_loss: 0.8374, test_accuracy: 1442/1698 (85%)\n",
      "\n"
     ]
    },
    {
     "name": "stderr",
     "output_type": "stream",
     "text": [
      "trainning: 100%|██████████| 62/62 [01:47<00:00,  1.74s/it]\n"
     ]
    },
    {
     "name": "stdout",
     "output_type": "stream",
     "text": [
      "Epoch: 82, train_loss: 0.2355, train_accuracy: 3917/3961 (99%)\n",
      "Epoch: 82, test_loss: 0.5513, test_accuracy: 1463/1698 (86%)\n",
      "\n"
     ]
    },
    {
     "name": "stderr",
     "output_type": "stream",
     "text": [
      "trainning: 100%|██████████| 62/62 [01:47<00:00,  1.74s/it]\n"
     ]
    },
    {
     "name": "stdout",
     "output_type": "stream",
     "text": [
      "Epoch: 83, train_loss: 0.3250, train_accuracy: 3881/3961 (98%)\n",
      "Epoch: 83, test_loss: 0.4443, test_accuracy: 1508/1698 (89%)\n",
      "\n"
     ]
    },
    {
     "name": "stderr",
     "output_type": "stream",
     "text": [
      "trainning: 100%|██████████| 62/62 [01:47<00:00,  1.74s/it]\n"
     ]
    },
    {
     "name": "stdout",
     "output_type": "stream",
     "text": [
      "Epoch: 84, train_loss: 0.2425, train_accuracy: 3912/3961 (99%)\n",
      "Epoch: 84, test_loss: 0.4011, test_accuracy: 1530/1698 (90%)\n",
      "\n"
     ]
    },
    {
     "name": "stderr",
     "output_type": "stream",
     "text": [
      "trainning: 100%|██████████| 62/62 [01:47<00:00,  1.74s/it]\n"
     ]
    },
    {
     "name": "stdout",
     "output_type": "stream",
     "text": [
      "Epoch: 85, train_loss: 0.2124, train_accuracy: 3926/3961 (99%)\n",
      "Epoch: 85, test_loss: 0.3786, test_accuracy: 1532/1698 (90%)\n",
      "\n"
     ]
    },
    {
     "name": "stderr",
     "output_type": "stream",
     "text": [
      "trainning: 100%|██████████| 62/62 [01:47<00:00,  1.74s/it]\n"
     ]
    },
    {
     "name": "stdout",
     "output_type": "stream",
     "text": [
      "Epoch: 86, train_loss: 0.1998, train_accuracy: 3938/3961 (99%)\n",
      "Epoch: 86, test_loss: 0.4995, test_accuracy: 1510/1698 (89%)\n",
      "\n"
     ]
    },
    {
     "name": "stderr",
     "output_type": "stream",
     "text": [
      "trainning: 100%|██████████| 62/62 [01:50<00:00,  1.79s/it]\n"
     ]
    },
    {
     "name": "stdout",
     "output_type": "stream",
     "text": [
      "Epoch: 87, train_loss: 0.1829, train_accuracy: 3937/3961 (99%)\n",
      "Epoch: 87, test_loss: 0.3052, test_accuracy: 1586/1698 (93%)\n",
      "\n"
     ]
    },
    {
     "name": "stderr",
     "output_type": "stream",
     "text": [
      "trainning: 100%|██████████| 62/62 [01:47<00:00,  1.74s/it]\n"
     ]
    },
    {
     "name": "stdout",
     "output_type": "stream",
     "text": [
      "Epoch: 88, train_loss: 0.1612, train_accuracy: 3950/3961 (100%)\n",
      "Epoch: 88, test_loss: 0.3869, test_accuracy: 1564/1698 (92%)\n",
      "\n"
     ]
    },
    {
     "name": "stderr",
     "output_type": "stream",
     "text": [
      "trainning: 100%|██████████| 62/62 [01:48<00:00,  1.74s/it]\n"
     ]
    },
    {
     "name": "stdout",
     "output_type": "stream",
     "text": [
      "Epoch: 89, train_loss: 0.1395, train_accuracy: 3955/3961 (100%)\n",
      "Epoch: 89, test_loss: 0.3410, test_accuracy: 1563/1698 (92%)\n",
      "\n"
     ]
    },
    {
     "name": "stderr",
     "output_type": "stream",
     "text": [
      "trainning: 100%|██████████| 62/62 [01:47<00:00,  1.74s/it]\n"
     ]
    },
    {
     "name": "stdout",
     "output_type": "stream",
     "text": [
      "Epoch: 90, train_loss: 0.1621, train_accuracy: 3959/3961 (100%)\n",
      "Epoch: 90, test_loss: 0.2998, test_accuracy: 1584/1698 (93%)\n",
      "\n"
     ]
    },
    {
     "name": "stderr",
     "output_type": "stream",
     "text": [
      "trainning: 100%|██████████| 62/62 [01:47<00:00,  1.74s/it]\n"
     ]
    },
    {
     "name": "stdout",
     "output_type": "stream",
     "text": [
      "Epoch: 91, train_loss: 0.1317, train_accuracy: 3957/3961 (100%)\n",
      "Epoch: 91, test_loss: 0.2838, test_accuracy: 1580/1698 (93%)\n",
      "\n"
     ]
    },
    {
     "name": "stderr",
     "output_type": "stream",
     "text": [
      "trainning: 100%|██████████| 62/62 [01:47<00:00,  1.74s/it]\n"
     ]
    },
    {
     "name": "stdout",
     "output_type": "stream",
     "text": [
      "Epoch: 92, train_loss: 0.1267, train_accuracy: 3958/3961 (100%)\n",
      "Epoch: 92, test_loss: 0.3072, test_accuracy: 1587/1698 (93%)\n",
      "\n"
     ]
    },
    {
     "name": "stderr",
     "output_type": "stream",
     "text": [
      "trainning: 100%|██████████| 62/62 [01:47<00:00,  1.74s/it]\n"
     ]
    },
    {
     "name": "stdout",
     "output_type": "stream",
     "text": [
      "Epoch: 93, train_loss: 0.1263, train_accuracy: 3956/3961 (100%)\n",
      "Epoch: 93, test_loss: 0.2896, test_accuracy: 1579/1698 (93%)\n",
      "\n"
     ]
    },
    {
     "name": "stderr",
     "output_type": "stream",
     "text": [
      "trainning: 100%|██████████| 62/62 [01:47<00:00,  1.74s/it]\n"
     ]
    },
    {
     "name": "stdout",
     "output_type": "stream",
     "text": [
      "Epoch: 94, train_loss: 0.1175, train_accuracy: 3955/3961 (100%)\n",
      "Epoch: 94, test_loss: 0.3035, test_accuracy: 1583/1698 (93%)\n",
      "\n"
     ]
    },
    {
     "name": "stderr",
     "output_type": "stream",
     "text": [
      "trainning: 100%|██████████| 62/62 [01:50<00:00,  1.78s/it]\n"
     ]
    },
    {
     "name": "stdout",
     "output_type": "stream",
     "text": [
      "Epoch: 95, train_loss: 0.1131, train_accuracy: 3955/3961 (100%)\n",
      "Epoch: 95, test_loss: 0.2982, test_accuracy: 1580/1698 (93%)\n",
      "\n"
     ]
    },
    {
     "name": "stderr",
     "output_type": "stream",
     "text": [
      "trainning: 100%|██████████| 62/62 [01:47<00:00,  1.74s/it]\n"
     ]
    },
    {
     "name": "stdout",
     "output_type": "stream",
     "text": [
      "Epoch: 96, train_loss: 0.1134, train_accuracy: 3960/3961 (100%)\n",
      "Epoch: 96, test_loss: 0.2891, test_accuracy: 1587/1698 (93%)\n",
      "\n"
     ]
    },
    {
     "name": "stderr",
     "output_type": "stream",
     "text": [
      "trainning: 100%|██████████| 62/62 [01:48<00:00,  1.75s/it]\n"
     ]
    },
    {
     "name": "stdout",
     "output_type": "stream",
     "text": [
      "Epoch: 97, train_loss: 0.1080, train_accuracy: 3957/3961 (100%)\n",
      "Epoch: 97, test_loss: 0.2930, test_accuracy: 1586/1698 (93%)\n",
      "\n"
     ]
    },
    {
     "name": "stderr",
     "output_type": "stream",
     "text": [
      "trainning: 100%|██████████| 62/62 [01:47<00:00,  1.74s/it]\n"
     ]
    },
    {
     "name": "stdout",
     "output_type": "stream",
     "text": [
      "Epoch: 98, train_loss: 0.1024, train_accuracy: 3959/3961 (100%)\n",
      "Epoch: 98, test_loss: 0.2881, test_accuracy: 1584/1698 (93%)\n",
      "\n"
     ]
    },
    {
     "name": "stderr",
     "output_type": "stream",
     "text": [
      "trainning: 100%|██████████| 62/62 [01:47<00:00,  1.74s/it]\n"
     ]
    },
    {
     "name": "stdout",
     "output_type": "stream",
     "text": [
      "Epoch: 99, train_loss: 0.1060, train_accuracy: 3961/3961 (100%)\n",
      "Epoch: 99, test_loss: 0.2897, test_accuracy: 1583/1698 (93%)\n",
      "\n"
     ]
    },
    {
     "name": "stderr",
     "output_type": "stream",
     "text": [
      "trainning: 100%|██████████| 62/62 [01:47<00:00,  1.73s/it]\n"
     ]
    },
    {
     "name": "stdout",
     "output_type": "stream",
     "text": [
      "Epoch: 100, train_loss: 0.1047, train_accuracy: 3957/3961 (100%)\n",
      "Epoch: 100, test_loss: 0.2897, test_accuracy: 1583/1698 (93%)\n",
      "\n"
     ]
    }
   ],
   "source": [
    "    train(model,teacher_model,criterionKD,criterionCls,train_dataloader,test_dataloader,\n",
    "         device,batch_size, num_epoch, learning_rate, optim)"
   ]
  },
  {
   "cell_type": "code",
   "execution_count": 27,
   "id": "0006a85e-76bb-414a-a06f-5b3c860bf3c9",
   "metadata": {},
   "outputs": [
    {
     "name": "stdout",
     "output_type": "stream",
     "text": [
      "Help on class Pad in module torchvision.transforms.transforms:\n",
      "\n",
      "class Pad(torch.nn.modules.module.Module)\n",
      " |  Pad(padding, fill=0, padding_mode='constant')\n",
      " |  \n",
      " |  Pad the given image on all sides with the given \"pad\" value.\n",
      " |  If the image is torch Tensor, it is expected\n",
      " |  to have [..., H, W] shape, where ... means at most 2 leading dimensions for mode reflect and symmetric,\n",
      " |  at most 3 leading dimensions for mode edge,\n",
      " |  and an arbitrary number of leading dimensions for mode constant\n",
      " |  \n",
      " |  Args:\n",
      " |      padding (int or sequence): Padding on each border. If a single int is provided this\n",
      " |          is used to pad all borders. If sequence of length 2 is provided this is the padding\n",
      " |          on left/right and top/bottom respectively. If a sequence of length 4 is provided\n",
      " |          this is the padding for the left, top, right and bottom borders respectively.\n",
      " |  \n",
      " |          .. note::\n",
      " |              In torchscript mode padding as single int is not supported, use a sequence of\n",
      " |              length 1: ``[padding, ]``.\n",
      " |      fill (number or tuple): Pixel fill value for constant fill. Default is 0. If a tuple of\n",
      " |          length 3, it is used to fill R, G, B channels respectively.\n",
      " |          This value is only used when the padding_mode is constant.\n",
      " |          Only number is supported for torch Tensor.\n",
      " |          Only int or tuple value is supported for PIL Image.\n",
      " |      padding_mode (str): Type of padding. Should be: constant, edge, reflect or symmetric.\n",
      " |          Default is constant.\n",
      " |  \n",
      " |          - constant: pads with a constant value, this value is specified with fill\n",
      " |  \n",
      " |          - edge: pads with the last value at the edge of the image.\n",
      " |            If input a 5D torch Tensor, the last 3 dimensions will be padded instead of the last 2\n",
      " |  \n",
      " |          - reflect: pads with reflection of image without repeating the last value on the edge.\n",
      " |            For example, padding [1, 2, 3, 4] with 2 elements on both sides in reflect mode\n",
      " |            will result in [3, 2, 1, 2, 3, 4, 3, 2]\n",
      " |  \n",
      " |          - symmetric: pads with reflection of image repeating the last value on the edge.\n",
      " |            For example, padding [1, 2, 3, 4] with 2 elements on both sides in symmetric mode\n",
      " |            will result in [2, 1, 1, 2, 3, 4, 4, 3]\n",
      " |  \n",
      " |  Method resolution order:\n",
      " |      Pad\n",
      " |      torch.nn.modules.module.Module\n",
      " |      builtins.object\n",
      " |  \n",
      " |  Methods defined here:\n",
      " |  \n",
      " |  __init__(self, padding, fill=0, padding_mode='constant')\n",
      " |      Initializes internal Module state, shared by both nn.Module and ScriptModule.\n",
      " |  \n",
      " |  __repr__(self) -> str\n",
      " |      Return repr(self).\n",
      " |  \n",
      " |  forward(self, img)\n",
      " |      Args:\n",
      " |          img (PIL Image or Tensor): Image to be padded.\n",
      " |      \n",
      " |      Returns:\n",
      " |          PIL Image or Tensor: Padded image.\n",
      " |  \n",
      " |  ----------------------------------------------------------------------\n",
      " |  Methods inherited from torch.nn.modules.module.Module:\n",
      " |  \n",
      " |  __call__ = _call_impl(self, *input, **kwargs)\n",
      " |  \n",
      " |  __delattr__(self, name)\n",
      " |      Implement delattr(self, name).\n",
      " |  \n",
      " |  __dir__(self)\n",
      " |      Default dir() implementation.\n",
      " |  \n",
      " |  __getattr__(self, name: str) -> Union[torch.Tensor, ForwardRef('Module')]\n",
      " |  \n",
      " |  __setattr__(self, name: str, value: Union[torch.Tensor, ForwardRef('Module')]) -> None\n",
      " |      Implement setattr(self, name, value).\n",
      " |  \n",
      " |  __setstate__(self, state)\n",
      " |  \n",
      " |  add_module(self, name: str, module: Optional[ForwardRef('Module')]) -> None\n",
      " |      Adds a child module to the current module.\n",
      " |      \n",
      " |      The module can be accessed as an attribute using the given name.\n",
      " |      \n",
      " |      Args:\n",
      " |          name (string): name of the child module. The child module can be\n",
      " |              accessed from this module using the given name\n",
      " |          module (Module): child module to be added to the module.\n",
      " |  \n",
      " |  apply(self: ~T, fn: Callable[[ForwardRef('Module')], NoneType]) -> ~T\n",
      " |      Applies ``fn`` recursively to every submodule (as returned by ``.children()``)\n",
      " |      as well as self. Typical use includes initializing the parameters of a model\n",
      " |      (see also :ref:`nn-init-doc`).\n",
      " |      \n",
      " |      Args:\n",
      " |          fn (:class:`Module` -> None): function to be applied to each submodule\n",
      " |      \n",
      " |      Returns:\n",
      " |          Module: self\n",
      " |      \n",
      " |      Example::\n",
      " |      \n",
      " |          >>> @torch.no_grad()\n",
      " |          >>> def init_weights(m):\n",
      " |          >>>     print(m)\n",
      " |          >>>     if type(m) == nn.Linear:\n",
      " |          >>>         m.weight.fill_(1.0)\n",
      " |          >>>         print(m.weight)\n",
      " |          >>> net = nn.Sequential(nn.Linear(2, 2), nn.Linear(2, 2))\n",
      " |          >>> net.apply(init_weights)\n",
      " |          Linear(in_features=2, out_features=2, bias=True)\n",
      " |          Parameter containing:\n",
      " |          tensor([[ 1.,  1.],\n",
      " |                  [ 1.,  1.]])\n",
      " |          Linear(in_features=2, out_features=2, bias=True)\n",
      " |          Parameter containing:\n",
      " |          tensor([[ 1.,  1.],\n",
      " |                  [ 1.,  1.]])\n",
      " |          Sequential(\n",
      " |            (0): Linear(in_features=2, out_features=2, bias=True)\n",
      " |            (1): Linear(in_features=2, out_features=2, bias=True)\n",
      " |          )\n",
      " |          Sequential(\n",
      " |            (0): Linear(in_features=2, out_features=2, bias=True)\n",
      " |            (1): Linear(in_features=2, out_features=2, bias=True)\n",
      " |          )\n",
      " |  \n",
      " |  bfloat16(self: ~T) -> ~T\n",
      " |      Casts all floating point parameters and buffers to ``bfloat16`` datatype.\n",
      " |      \n",
      " |      .. note::\n",
      " |          This method modifies the module in-place.\n",
      " |      \n",
      " |      Returns:\n",
      " |          Module: self\n",
      " |  \n",
      " |  buffers(self, recurse: bool = True) -> Iterator[torch.Tensor]\n",
      " |      Returns an iterator over module buffers.\n",
      " |      \n",
      " |      Args:\n",
      " |          recurse (bool): if True, then yields buffers of this module\n",
      " |              and all submodules. Otherwise, yields only buffers that\n",
      " |              are direct members of this module.\n",
      " |      \n",
      " |      Yields:\n",
      " |          torch.Tensor: module buffer\n",
      " |      \n",
      " |      Example::\n",
      " |      \n",
      " |          >>> for buf in model.buffers():\n",
      " |          >>>     print(type(buf), buf.size())\n",
      " |          <class 'torch.Tensor'> (20L,)\n",
      " |          <class 'torch.Tensor'> (20L, 1L, 5L, 5L)\n",
      " |  \n",
      " |  children(self) -> Iterator[ForwardRef('Module')]\n",
      " |      Returns an iterator over immediate children modules.\n",
      " |      \n",
      " |      Yields:\n",
      " |          Module: a child module\n",
      " |  \n",
      " |  cpu(self: ~T) -> ~T\n",
      " |      Moves all model parameters and buffers to the CPU.\n",
      " |      \n",
      " |      .. note::\n",
      " |          This method modifies the module in-place.\n",
      " |      \n",
      " |      Returns:\n",
      " |          Module: self\n",
      " |  \n",
      " |  cuda(self: ~T, device: Union[int, torch.device, NoneType] = None) -> ~T\n",
      " |      Moves all model parameters and buffers to the GPU.\n",
      " |      \n",
      " |      This also makes associated parameters and buffers different objects. So\n",
      " |      it should be called before constructing optimizer if the module will\n",
      " |      live on GPU while being optimized.\n",
      " |      \n",
      " |      .. note::\n",
      " |          This method modifies the module in-place.\n",
      " |      \n",
      " |      Args:\n",
      " |          device (int, optional): if specified, all parameters will be\n",
      " |              copied to that device\n",
      " |      \n",
      " |      Returns:\n",
      " |          Module: self\n",
      " |  \n",
      " |  double(self: ~T) -> ~T\n",
      " |      Casts all floating point parameters and buffers to ``double`` datatype.\n",
      " |      \n",
      " |      .. note::\n",
      " |          This method modifies the module in-place.\n",
      " |      \n",
      " |      Returns:\n",
      " |          Module: self\n",
      " |  \n",
      " |  eval(self: ~T) -> ~T\n",
      " |      Sets the module in evaluation mode.\n",
      " |      \n",
      " |      This has any effect only on certain modules. See documentations of\n",
      " |      particular modules for details of their behaviors in training/evaluation\n",
      " |      mode, if they are affected, e.g. :class:`Dropout`, :class:`BatchNorm`,\n",
      " |      etc.\n",
      " |      \n",
      " |      This is equivalent with :meth:`self.train(False) <torch.nn.Module.train>`.\n",
      " |      \n",
      " |      See :ref:`locally-disable-grad-doc` for a comparison between\n",
      " |      `.eval()` and several similar mechanisms that may be confused with it.\n",
      " |      \n",
      " |      Returns:\n",
      " |          Module: self\n",
      " |  \n",
      " |  extra_repr(self) -> str\n",
      " |      Set the extra representation of the module\n",
      " |      \n",
      " |      To print customized extra information, you should re-implement\n",
      " |      this method in your own modules. Both single-line and multi-line\n",
      " |      strings are acceptable.\n",
      " |  \n",
      " |  float(self: ~T) -> ~T\n",
      " |      Casts all floating point parameters and buffers to ``float`` datatype.\n",
      " |      \n",
      " |      .. note::\n",
      " |          This method modifies the module in-place.\n",
      " |      \n",
      " |      Returns:\n",
      " |          Module: self\n",
      " |  \n",
      " |  get_buffer(self, target: str) -> 'Tensor'\n",
      " |      Returns the buffer given by ``target`` if it exists,\n",
      " |      otherwise throws an error.\n",
      " |      \n",
      " |      See the docstring for ``get_submodule`` for a more detailed\n",
      " |      explanation of this method's functionality as well as how to\n",
      " |      correctly specify ``target``.\n",
      " |      \n",
      " |      Args:\n",
      " |          target: The fully-qualified string name of the buffer\n",
      " |              to look for. (See ``get_submodule`` for how to specify a\n",
      " |              fully-qualified string.)\n",
      " |      \n",
      " |      Returns:\n",
      " |          torch.Tensor: The buffer referenced by ``target``\n",
      " |      \n",
      " |      Raises:\n",
      " |          AttributeError: If the target string references an invalid\n",
      " |              path or resolves to something that is not a\n",
      " |              buffer\n",
      " |  \n",
      " |  get_extra_state(self) -> Any\n",
      " |      Returns any extra state to include in the module's state_dict.\n",
      " |      Implement this and a corresponding :func:`set_extra_state` for your module\n",
      " |      if you need to store extra state. This function is called when building the\n",
      " |      module's `state_dict()`.\n",
      " |      \n",
      " |      Note that extra state should be pickleable to ensure working serialization\n",
      " |      of the state_dict. We only provide provide backwards compatibility guarantees\n",
      " |      for serializing Tensors; other objects may break backwards compatibility if\n",
      " |      their serialized pickled form changes.\n",
      " |      \n",
      " |      Returns:\n",
      " |          object: Any extra state to store in the module's state_dict\n",
      " |  \n",
      " |  get_parameter(self, target: str) -> 'Parameter'\n",
      " |      Returns the parameter given by ``target`` if it exists,\n",
      " |      otherwise throws an error.\n",
      " |      \n",
      " |      See the docstring for ``get_submodule`` for a more detailed\n",
      " |      explanation of this method's functionality as well as how to\n",
      " |      correctly specify ``target``.\n",
      " |      \n",
      " |      Args:\n",
      " |          target: The fully-qualified string name of the Parameter\n",
      " |              to look for. (See ``get_submodule`` for how to specify a\n",
      " |              fully-qualified string.)\n",
      " |      \n",
      " |      Returns:\n",
      " |          torch.nn.Parameter: The Parameter referenced by ``target``\n",
      " |      \n",
      " |      Raises:\n",
      " |          AttributeError: If the target string references an invalid\n",
      " |              path or resolves to something that is not an\n",
      " |              ``nn.Parameter``\n",
      " |  \n",
      " |  get_submodule(self, target: str) -> 'Module'\n",
      " |      Returns the submodule given by ``target`` if it exists,\n",
      " |      otherwise throws an error.\n",
      " |      \n",
      " |      For example, let's say you have an ``nn.Module`` ``A`` that\n",
      " |      looks like this:\n",
      " |      \n",
      " |      .. code-block:: text\n",
      " |      \n",
      " |          A(\n",
      " |              (net_b): Module(\n",
      " |                  (net_c): Module(\n",
      " |                      (conv): Conv2d(16, 33, kernel_size=(3, 3), stride=(2, 2))\n",
      " |                  )\n",
      " |                  (linear): Linear(in_features=100, out_features=200, bias=True)\n",
      " |              )\n",
      " |          )\n",
      " |      \n",
      " |      (The diagram shows an ``nn.Module`` ``A``. ``A`` has a nested\n",
      " |      submodule ``net_b``, which itself has two submodules ``net_c``\n",
      " |      and ``linear``. ``net_c`` then has a submodule ``conv``.)\n",
      " |      \n",
      " |      To check whether or not we have the ``linear`` submodule, we\n",
      " |      would call ``get_submodule(\"net_b.linear\")``. To check whether\n",
      " |      we have the ``conv`` submodule, we would call\n",
      " |      ``get_submodule(\"net_b.net_c.conv\")``.\n",
      " |      \n",
      " |      The runtime of ``get_submodule`` is bounded by the degree\n",
      " |      of module nesting in ``target``. A query against\n",
      " |      ``named_modules`` achieves the same result, but it is O(N) in\n",
      " |      the number of transitive modules. So, for a simple check to see\n",
      " |      if some submodule exists, ``get_submodule`` should always be\n",
      " |      used.\n",
      " |      \n",
      " |      Args:\n",
      " |          target: The fully-qualified string name of the submodule\n",
      " |              to look for. (See above example for how to specify a\n",
      " |              fully-qualified string.)\n",
      " |      \n",
      " |      Returns:\n",
      " |          torch.nn.Module: The submodule referenced by ``target``\n",
      " |      \n",
      " |      Raises:\n",
      " |          AttributeError: If the target string references an invalid\n",
      " |              path or resolves to something that is not an\n",
      " |              ``nn.Module``\n",
      " |  \n",
      " |  half(self: ~T) -> ~T\n",
      " |      Casts all floating point parameters and buffers to ``half`` datatype.\n",
      " |      \n",
      " |      .. note::\n",
      " |          This method modifies the module in-place.\n",
      " |      \n",
      " |      Returns:\n",
      " |          Module: self\n",
      " |  \n",
      " |  ipu(self: ~T, device: Union[int, torch.device, NoneType] = None) -> ~T\n",
      " |      Moves all model parameters and buffers to the IPU.\n",
      " |      \n",
      " |      This also makes associated parameters and buffers different objects. So\n",
      " |      it should be called before constructing optimizer if the module will\n",
      " |      live on IPU while being optimized.\n",
      " |      \n",
      " |      .. note::\n",
      " |          This method modifies the module in-place.\n",
      " |      \n",
      " |      Arguments:\n",
      " |          device (int, optional): if specified, all parameters will be\n",
      " |              copied to that device\n",
      " |      \n",
      " |      Returns:\n",
      " |          Module: self\n",
      " |  \n",
      " |  load_state_dict(self, state_dict: Mapping[str, Any], strict: bool = True)\n",
      " |      Copies parameters and buffers from :attr:`state_dict` into\n",
      " |      this module and its descendants. If :attr:`strict` is ``True``, then\n",
      " |      the keys of :attr:`state_dict` must exactly match the keys returned\n",
      " |      by this module's :meth:`~torch.nn.Module.state_dict` function.\n",
      " |      \n",
      " |      Args:\n",
      " |          state_dict (dict): a dict containing parameters and\n",
      " |              persistent buffers.\n",
      " |          strict (bool, optional): whether to strictly enforce that the keys\n",
      " |              in :attr:`state_dict` match the keys returned by this module's\n",
      " |              :meth:`~torch.nn.Module.state_dict` function. Default: ``True``\n",
      " |      \n",
      " |      Returns:\n",
      " |          ``NamedTuple`` with ``missing_keys`` and ``unexpected_keys`` fields:\n",
      " |              * **missing_keys** is a list of str containing the missing keys\n",
      " |              * **unexpected_keys** is a list of str containing the unexpected keys\n",
      " |      \n",
      " |      Note:\n",
      " |          If a parameter or buffer is registered as ``None`` and its corresponding key\n",
      " |          exists in :attr:`state_dict`, :meth:`load_state_dict` will raise a\n",
      " |          ``RuntimeError``.\n",
      " |  \n",
      " |  modules(self) -> Iterator[ForwardRef('Module')]\n",
      " |      Returns an iterator over all modules in the network.\n",
      " |      \n",
      " |      Yields:\n",
      " |          Module: a module in the network\n",
      " |      \n",
      " |      Note:\n",
      " |          Duplicate modules are returned only once. In the following\n",
      " |          example, ``l`` will be returned only once.\n",
      " |      \n",
      " |      Example::\n",
      " |      \n",
      " |          >>> l = nn.Linear(2, 2)\n",
      " |          >>> net = nn.Sequential(l, l)\n",
      " |          >>> for idx, m in enumerate(net.modules()):\n",
      " |                  print(idx, '->', m)\n",
      " |      \n",
      " |          0 -> Sequential(\n",
      " |            (0): Linear(in_features=2, out_features=2, bias=True)\n",
      " |            (1): Linear(in_features=2, out_features=2, bias=True)\n",
      " |          )\n",
      " |          1 -> Linear(in_features=2, out_features=2, bias=True)\n",
      " |  \n",
      " |  named_buffers(self, prefix: str = '', recurse: bool = True) -> Iterator[Tuple[str, torch.Tensor]]\n",
      " |      Returns an iterator over module buffers, yielding both the\n",
      " |      name of the buffer as well as the buffer itself.\n",
      " |      \n",
      " |      Args:\n",
      " |          prefix (str): prefix to prepend to all buffer names.\n",
      " |          recurse (bool): if True, then yields buffers of this module\n",
      " |              and all submodules. Otherwise, yields only buffers that\n",
      " |              are direct members of this module.\n",
      " |      \n",
      " |      Yields:\n",
      " |          (string, torch.Tensor): Tuple containing the name and buffer\n",
      " |      \n",
      " |      Example::\n",
      " |      \n",
      " |          >>> for name, buf in self.named_buffers():\n",
      " |          >>>    if name in ['running_var']:\n",
      " |          >>>        print(buf.size())\n",
      " |  \n",
      " |  named_children(self) -> Iterator[Tuple[str, ForwardRef('Module')]]\n",
      " |      Returns an iterator over immediate children modules, yielding both\n",
      " |      the name of the module as well as the module itself.\n",
      " |      \n",
      " |      Yields:\n",
      " |          (string, Module): Tuple containing a name and child module\n",
      " |      \n",
      " |      Example::\n",
      " |      \n",
      " |          >>> for name, module in model.named_children():\n",
      " |          >>>     if name in ['conv4', 'conv5']:\n",
      " |          >>>         print(module)\n",
      " |  \n",
      " |  named_modules(self, memo: Optional[Set[ForwardRef('Module')]] = None, prefix: str = '', remove_duplicate: bool = True)\n",
      " |      Returns an iterator over all modules in the network, yielding\n",
      " |      both the name of the module as well as the module itself.\n",
      " |      \n",
      " |      Args:\n",
      " |          memo: a memo to store the set of modules already added to the result\n",
      " |          prefix: a prefix that will be added to the name of the module\n",
      " |          remove_duplicate: whether to remove the duplicated module instances in the result\n",
      " |              or not\n",
      " |      \n",
      " |      Yields:\n",
      " |          (string, Module): Tuple of name and module\n",
      " |      \n",
      " |      Note:\n",
      " |          Duplicate modules are returned only once. In the following\n",
      " |          example, ``l`` will be returned only once.\n",
      " |      \n",
      " |      Example::\n",
      " |      \n",
      " |          >>> l = nn.Linear(2, 2)\n",
      " |          >>> net = nn.Sequential(l, l)\n",
      " |          >>> for idx, m in enumerate(net.named_modules()):\n",
      " |                  print(idx, '->', m)\n",
      " |      \n",
      " |          0 -> ('', Sequential(\n",
      " |            (0): Linear(in_features=2, out_features=2, bias=True)\n",
      " |            (1): Linear(in_features=2, out_features=2, bias=True)\n",
      " |          ))\n",
      " |          1 -> ('0', Linear(in_features=2, out_features=2, bias=True))\n",
      " |  \n",
      " |  named_parameters(self, prefix: str = '', recurse: bool = True) -> Iterator[Tuple[str, torch.nn.parameter.Parameter]]\n",
      " |      Returns an iterator over module parameters, yielding both the\n",
      " |      name of the parameter as well as the parameter itself.\n",
      " |      \n",
      " |      Args:\n",
      " |          prefix (str): prefix to prepend to all parameter names.\n",
      " |          recurse (bool): if True, then yields parameters of this module\n",
      " |              and all submodules. Otherwise, yields only parameters that\n",
      " |              are direct members of this module.\n",
      " |      \n",
      " |      Yields:\n",
      " |          (string, Parameter): Tuple containing the name and parameter\n",
      " |      \n",
      " |      Example::\n",
      " |      \n",
      " |          >>> for name, param in self.named_parameters():\n",
      " |          >>>    if name in ['bias']:\n",
      " |          >>>        print(param.size())\n",
      " |  \n",
      " |  parameters(self, recurse: bool = True) -> Iterator[torch.nn.parameter.Parameter]\n",
      " |      Returns an iterator over module parameters.\n",
      " |      \n",
      " |      This is typically passed to an optimizer.\n",
      " |      \n",
      " |      Args:\n",
      " |          recurse (bool): if True, then yields parameters of this module\n",
      " |              and all submodules. Otherwise, yields only parameters that\n",
      " |              are direct members of this module.\n",
      " |      \n",
      " |      Yields:\n",
      " |          Parameter: module parameter\n",
      " |      \n",
      " |      Example::\n",
      " |      \n",
      " |          >>> for param in model.parameters():\n",
      " |          >>>     print(type(param), param.size())\n",
      " |          <class 'torch.Tensor'> (20L,)\n",
      " |          <class 'torch.Tensor'> (20L, 1L, 5L, 5L)\n",
      " |  \n",
      " |  register_backward_hook(self, hook: Callable[[ForwardRef('Module'), Union[Tuple[torch.Tensor, ...], torch.Tensor], Union[Tuple[torch.Tensor, ...], torch.Tensor]], Optional[torch.Tensor]]) -> torch.utils.hooks.RemovableHandle\n",
      " |      Registers a backward hook on the module.\n",
      " |      \n",
      " |      This function is deprecated in favor of :meth:`~torch.nn.Module.register_full_backward_hook` and\n",
      " |      the behavior of this function will change in future versions.\n",
      " |      \n",
      " |      Returns:\n",
      " |          :class:`torch.utils.hooks.RemovableHandle`:\n",
      " |              a handle that can be used to remove the added hook by calling\n",
      " |              ``handle.remove()``\n",
      " |  \n",
      " |  register_buffer(self, name: str, tensor: Optional[torch.Tensor], persistent: bool = True) -> None\n",
      " |      Adds a buffer to the module.\n",
      " |      \n",
      " |      This is typically used to register a buffer that should not to be\n",
      " |      considered a model parameter. For example, BatchNorm's ``running_mean``\n",
      " |      is not a parameter, but is part of the module's state. Buffers, by\n",
      " |      default, are persistent and will be saved alongside parameters. This\n",
      " |      behavior can be changed by setting :attr:`persistent` to ``False``. The\n",
      " |      only difference between a persistent buffer and a non-persistent buffer\n",
      " |      is that the latter will not be a part of this module's\n",
      " |      :attr:`state_dict`.\n",
      " |      \n",
      " |      Buffers can be accessed as attributes using given names.\n",
      " |      \n",
      " |      Args:\n",
      " |          name (string): name of the buffer. The buffer can be accessed\n",
      " |              from this module using the given name\n",
      " |          tensor (Tensor or None): buffer to be registered. If ``None``, then operations\n",
      " |              that run on buffers, such as :attr:`cuda`, are ignored. If ``None``,\n",
      " |              the buffer is **not** included in the module's :attr:`state_dict`.\n",
      " |          persistent (bool): whether the buffer is part of this module's\n",
      " |              :attr:`state_dict`.\n",
      " |      \n",
      " |      Example::\n",
      " |      \n",
      " |          >>> self.register_buffer('running_mean', torch.zeros(num_features))\n",
      " |  \n",
      " |  register_forward_hook(self, hook: Callable[..., NoneType]) -> torch.utils.hooks.RemovableHandle\n",
      " |      Registers a forward hook on the module.\n",
      " |      \n",
      " |      The hook will be called every time after :func:`forward` has computed an output.\n",
      " |      It should have the following signature::\n",
      " |      \n",
      " |          hook(module, input, output) -> None or modified output\n",
      " |      \n",
      " |      The input contains only the positional arguments given to the module.\n",
      " |      Keyword arguments won't be passed to the hooks and only to the ``forward``.\n",
      " |      The hook can modify the output. It can modify the input inplace but\n",
      " |      it will not have effect on forward since this is called after\n",
      " |      :func:`forward` is called.\n",
      " |      \n",
      " |      Returns:\n",
      " |          :class:`torch.utils.hooks.RemovableHandle`:\n",
      " |              a handle that can be used to remove the added hook by calling\n",
      " |              ``handle.remove()``\n",
      " |  \n",
      " |  register_forward_pre_hook(self, hook: Callable[..., NoneType]) -> torch.utils.hooks.RemovableHandle\n",
      " |      Registers a forward pre-hook on the module.\n",
      " |      \n",
      " |      The hook will be called every time before :func:`forward` is invoked.\n",
      " |      It should have the following signature::\n",
      " |      \n",
      " |          hook(module, input) -> None or modified input\n",
      " |      \n",
      " |      The input contains only the positional arguments given to the module.\n",
      " |      Keyword arguments won't be passed to the hooks and only to the ``forward``.\n",
      " |      The hook can modify the input. User can either return a tuple or a\n",
      " |      single modified value in the hook. We will wrap the value into a tuple\n",
      " |      if a single value is returned(unless that value is already a tuple).\n",
      " |      \n",
      " |      Returns:\n",
      " |          :class:`torch.utils.hooks.RemovableHandle`:\n",
      " |              a handle that can be used to remove the added hook by calling\n",
      " |              ``handle.remove()``\n",
      " |  \n",
      " |  register_full_backward_hook(self, hook: Callable[[ForwardRef('Module'), Union[Tuple[torch.Tensor, ...], torch.Tensor], Union[Tuple[torch.Tensor, ...], torch.Tensor]], Optional[torch.Tensor]]) -> torch.utils.hooks.RemovableHandle\n",
      " |      Registers a backward hook on the module.\n",
      " |      \n",
      " |      The hook will be called every time the gradients with respect to module\n",
      " |      inputs are computed. The hook should have the following signature::\n",
      " |      \n",
      " |          hook(module, grad_input, grad_output) -> tuple(Tensor) or None\n",
      " |      \n",
      " |      The :attr:`grad_input` and :attr:`grad_output` are tuples that contain the gradients\n",
      " |      with respect to the inputs and outputs respectively. The hook should\n",
      " |      not modify its arguments, but it can optionally return a new gradient with\n",
      " |      respect to the input that will be used in place of :attr:`grad_input` in\n",
      " |      subsequent computations. :attr:`grad_input` will only correspond to the inputs given\n",
      " |      as positional arguments and all kwarg arguments are ignored. Entries\n",
      " |      in :attr:`grad_input` and :attr:`grad_output` will be ``None`` for all non-Tensor\n",
      " |      arguments.\n",
      " |      \n",
      " |      For technical reasons, when this hook is applied to a Module, its forward function will\n",
      " |      receive a view of each Tensor passed to the Module. Similarly the caller will receive a view\n",
      " |      of each Tensor returned by the Module's forward function.\n",
      " |      \n",
      " |      .. warning ::\n",
      " |          Modifying inputs or outputs inplace is not allowed when using backward hooks and\n",
      " |          will raise an error.\n",
      " |      \n",
      " |      Returns:\n",
      " |          :class:`torch.utils.hooks.RemovableHandle`:\n",
      " |              a handle that can be used to remove the added hook by calling\n",
      " |              ``handle.remove()``\n",
      " |  \n",
      " |  register_load_state_dict_post_hook(self, hook)\n",
      " |      Registers a post hook to be run after module's ``load_state_dict``\n",
      " |      is called.\n",
      " |      \n",
      " |      It should have the following signature::\n",
      " |          hook(module, incompatible_keys) -> None\n",
      " |      \n",
      " |      The ``module`` argument is the current module that this hook is registered\n",
      " |      on, and the ``incompatible_keys`` argument is a ``NamedTuple`` consisting\n",
      " |      of attributes ``missing_keys`` and ``unexpected_keys``. ``missing_keys``\n",
      " |      is a ``list`` of ``str`` containing the missing keys and\n",
      " |      ``unexpected_keys`` is a ``list`` of ``str`` containing the unexpected keys.\n",
      " |      \n",
      " |      The given incompatible_keys can be modified inplace if needed.\n",
      " |      \n",
      " |      Note that the checks performed when calling :func:`load_state_dict` with\n",
      " |      ``strict=True`` are affected by modifications the hook makes to\n",
      " |      ``missing_keys`` or ``unexpected_keys``, as expected. Additions to either\n",
      " |      set of keys will result in an error being thrown when ``strict=True``, and\n",
      " |      clearning out both missing and unexpected keys will avoid an error.\n",
      " |      \n",
      " |      Returns:\n",
      " |          :class:`torch.utils.hooks.RemovableHandle`:\n",
      " |              a handle that can be used to remove the added hook by calling\n",
      " |              ``handle.remove()``\n",
      " |  \n",
      " |  register_module(self, name: str, module: Optional[ForwardRef('Module')]) -> None\n",
      " |      Alias for :func:`add_module`.\n",
      " |  \n",
      " |  register_parameter(self, name: str, param: Optional[torch.nn.parameter.Parameter]) -> None\n",
      " |      Adds a parameter to the module.\n",
      " |      \n",
      " |      The parameter can be accessed as an attribute using given name.\n",
      " |      \n",
      " |      Args:\n",
      " |          name (string): name of the parameter. The parameter can be accessed\n",
      " |              from this module using the given name\n",
      " |          param (Parameter or None): parameter to be added to the module. If\n",
      " |              ``None``, then operations that run on parameters, such as :attr:`cuda`,\n",
      " |              are ignored. If ``None``, the parameter is **not** included in the\n",
      " |              module's :attr:`state_dict`.\n",
      " |  \n",
      " |  requires_grad_(self: ~T, requires_grad: bool = True) -> ~T\n",
      " |      Change if autograd should record operations on parameters in this\n",
      " |      module.\n",
      " |      \n",
      " |      This method sets the parameters' :attr:`requires_grad` attributes\n",
      " |      in-place.\n",
      " |      \n",
      " |      This method is helpful for freezing part of the module for finetuning\n",
      " |      or training parts of a model individually (e.g., GAN training).\n",
      " |      \n",
      " |      See :ref:`locally-disable-grad-doc` for a comparison between\n",
      " |      `.requires_grad_()` and several similar mechanisms that may be confused with it.\n",
      " |      \n",
      " |      Args:\n",
      " |          requires_grad (bool): whether autograd should record operations on\n",
      " |                                parameters in this module. Default: ``True``.\n",
      " |      \n",
      " |      Returns:\n",
      " |          Module: self\n",
      " |  \n",
      " |  set_extra_state(self, state: Any)\n",
      " |      This function is called from :func:`load_state_dict` to handle any extra state\n",
      " |      found within the `state_dict`. Implement this function and a corresponding\n",
      " |      :func:`get_extra_state` for your module if you need to store extra state within its\n",
      " |      `state_dict`.\n",
      " |      \n",
      " |      Args:\n",
      " |          state (dict): Extra state from the `state_dict`\n",
      " |  \n",
      " |  share_memory(self: ~T) -> ~T\n",
      " |      See :meth:`torch.Tensor.share_memory_`\n",
      " |  \n",
      " |  state_dict(self, *args, destination=None, prefix='', keep_vars=False)\n",
      " |      Returns a dictionary containing a whole state of the module.\n",
      " |      \n",
      " |      Both parameters and persistent buffers (e.g. running averages) are\n",
      " |      included. Keys are corresponding parameter and buffer names.\n",
      " |      Parameters and buffers set to ``None`` are not included.\n",
      " |      \n",
      " |      .. warning::\n",
      " |          Currently ``state_dict()`` also accepts positional arguments for\n",
      " |          ``destination``, ``prefix`` and ``keep_vars`` in order. However,\n",
      " |          this is being deprecated and keyword arguments will be enforced in\n",
      " |          future releases.\n",
      " |      \n",
      " |      .. warning::\n",
      " |          Please avoid the use of argument ``destination`` as it is not\n",
      " |          designed for end-users.\n",
      " |      \n",
      " |      Args:\n",
      " |          destination (dict, optional): If provided, the state of module will\n",
      " |              be updated into the dict and the same object is returned.\n",
      " |              Otherwise, an ``OrderedDict`` will be created and returned.\n",
      " |              Default: ``None``.\n",
      " |          prefix (str, optional): a prefix added to parameter and buffer\n",
      " |              names to compose the keys in state_dict. Default: ``''``.\n",
      " |          keep_vars (bool, optional): by default the :class:`~torch.Tensor` s\n",
      " |              returned in the state dict are detached from autograd. If it's\n",
      " |              set to ``True``, detaching will not be performed.\n",
      " |              Default: ``False``.\n",
      " |      \n",
      " |      Returns:\n",
      " |          dict:\n",
      " |              a dictionary containing a whole state of the module\n",
      " |      \n",
      " |      Example::\n",
      " |      \n",
      " |          >>> module.state_dict().keys()\n",
      " |          ['bias', 'weight']\n",
      " |  \n",
      " |  to(self, *args, **kwargs)\n",
      " |      Moves and/or casts the parameters and buffers.\n",
      " |      \n",
      " |      This can be called as\n",
      " |      \n",
      " |      .. function:: to(device=None, dtype=None, non_blocking=False)\n",
      " |         :noindex:\n",
      " |      \n",
      " |      .. function:: to(dtype, non_blocking=False)\n",
      " |         :noindex:\n",
      " |      \n",
      " |      .. function:: to(tensor, non_blocking=False)\n",
      " |         :noindex:\n",
      " |      \n",
      " |      .. function:: to(memory_format=torch.channels_last)\n",
      " |         :noindex:\n",
      " |      \n",
      " |      Its signature is similar to :meth:`torch.Tensor.to`, but only accepts\n",
      " |      floating point or complex :attr:`dtype`\\ s. In addition, this method will\n",
      " |      only cast the floating point or complex parameters and buffers to :attr:`dtype`\n",
      " |      (if given). The integral parameters and buffers will be moved\n",
      " |      :attr:`device`, if that is given, but with dtypes unchanged. When\n",
      " |      :attr:`non_blocking` is set, it tries to convert/move asynchronously\n",
      " |      with respect to the host if possible, e.g., moving CPU Tensors with\n",
      " |      pinned memory to CUDA devices.\n",
      " |      \n",
      " |      See below for examples.\n",
      " |      \n",
      " |      .. note::\n",
      " |          This method modifies the module in-place.\n",
      " |      \n",
      " |      Args:\n",
      " |          device (:class:`torch.device`): the desired device of the parameters\n",
      " |              and buffers in this module\n",
      " |          dtype (:class:`torch.dtype`): the desired floating point or complex dtype of\n",
      " |              the parameters and buffers in this module\n",
      " |          tensor (torch.Tensor): Tensor whose dtype and device are the desired\n",
      " |              dtype and device for all parameters and buffers in this module\n",
      " |          memory_format (:class:`torch.memory_format`): the desired memory\n",
      " |              format for 4D parameters and buffers in this module (keyword\n",
      " |              only argument)\n",
      " |      \n",
      " |      Returns:\n",
      " |          Module: self\n",
      " |      \n",
      " |      Examples::\n",
      " |      \n",
      " |          >>> linear = nn.Linear(2, 2)\n",
      " |          >>> linear.weight\n",
      " |          Parameter containing:\n",
      " |          tensor([[ 0.1913, -0.3420],\n",
      " |                  [-0.5113, -0.2325]])\n",
      " |          >>> linear.to(torch.double)\n",
      " |          Linear(in_features=2, out_features=2, bias=True)\n",
      " |          >>> linear.weight\n",
      " |          Parameter containing:\n",
      " |          tensor([[ 0.1913, -0.3420],\n",
      " |                  [-0.5113, -0.2325]], dtype=torch.float64)\n",
      " |          >>> gpu1 = torch.device(\"cuda:1\")\n",
      " |          >>> linear.to(gpu1, dtype=torch.half, non_blocking=True)\n",
      " |          Linear(in_features=2, out_features=2, bias=True)\n",
      " |          >>> linear.weight\n",
      " |          Parameter containing:\n",
      " |          tensor([[ 0.1914, -0.3420],\n",
      " |                  [-0.5112, -0.2324]], dtype=torch.float16, device='cuda:1')\n",
      " |          >>> cpu = torch.device(\"cpu\")\n",
      " |          >>> linear.to(cpu)\n",
      " |          Linear(in_features=2, out_features=2, bias=True)\n",
      " |          >>> linear.weight\n",
      " |          Parameter containing:\n",
      " |          tensor([[ 0.1914, -0.3420],\n",
      " |                  [-0.5112, -0.2324]], dtype=torch.float16)\n",
      " |      \n",
      " |          >>> linear = nn.Linear(2, 2, bias=None).to(torch.cdouble)\n",
      " |          >>> linear.weight\n",
      " |          Parameter containing:\n",
      " |          tensor([[ 0.3741+0.j,  0.2382+0.j],\n",
      " |                  [ 0.5593+0.j, -0.4443+0.j]], dtype=torch.complex128)\n",
      " |          >>> linear(torch.ones(3, 2, dtype=torch.cdouble))\n",
      " |          tensor([[0.6122+0.j, 0.1150+0.j],\n",
      " |                  [0.6122+0.j, 0.1150+0.j],\n",
      " |                  [0.6122+0.j, 0.1150+0.j]], dtype=torch.complex128)\n",
      " |  \n",
      " |  to_empty(self: ~T, *, device: Union[str, torch.device]) -> ~T\n",
      " |      Moves the parameters and buffers to the specified device without copying storage.\n",
      " |      \n",
      " |      Args:\n",
      " |          device (:class:`torch.device`): The desired device of the parameters\n",
      " |              and buffers in this module.\n",
      " |      \n",
      " |      Returns:\n",
      " |          Module: self\n",
      " |  \n",
      " |  train(self: ~T, mode: bool = True) -> ~T\n",
      " |      Sets the module in training mode.\n",
      " |      \n",
      " |      This has any effect only on certain modules. See documentations of\n",
      " |      particular modules for details of their behaviors in training/evaluation\n",
      " |      mode, if they are affected, e.g. :class:`Dropout`, :class:`BatchNorm`,\n",
      " |      etc.\n",
      " |      \n",
      " |      Args:\n",
      " |          mode (bool): whether to set training mode (``True``) or evaluation\n",
      " |                       mode (``False``). Default: ``True``.\n",
      " |      \n",
      " |      Returns:\n",
      " |          Module: self\n",
      " |  \n",
      " |  type(self: ~T, dst_type: Union[torch.dtype, str]) -> ~T\n",
      " |      Casts all parameters and buffers to :attr:`dst_type`.\n",
      " |      \n",
      " |      .. note::\n",
      " |          This method modifies the module in-place.\n",
      " |      \n",
      " |      Args:\n",
      " |          dst_type (type or string): the desired type\n",
      " |      \n",
      " |      Returns:\n",
      " |          Module: self\n",
      " |  \n",
      " |  xpu(self: ~T, device: Union[int, torch.device, NoneType] = None) -> ~T\n",
      " |      Moves all model parameters and buffers to the XPU.\n",
      " |      \n",
      " |      This also makes associated parameters and buffers different objects. So\n",
      " |      it should be called before constructing optimizer if the module will\n",
      " |      live on XPU while being optimized.\n",
      " |      \n",
      " |      .. note::\n",
      " |          This method modifies the module in-place.\n",
      " |      \n",
      " |      Arguments:\n",
      " |          device (int, optional): if specified, all parameters will be\n",
      " |              copied to that device\n",
      " |      \n",
      " |      Returns:\n",
      " |          Module: self\n",
      " |  \n",
      " |  zero_grad(self, set_to_none: bool = False) -> None\n",
      " |      Sets gradients of all model parameters to zero. See similar function\n",
      " |      under :class:`torch.optim.Optimizer` for more context.\n",
      " |      \n",
      " |      Args:\n",
      " |          set_to_none (bool): instead of setting to zero, set the grads to None.\n",
      " |              See :meth:`torch.optim.Optimizer.zero_grad` for details.\n",
      " |  \n",
      " |  ----------------------------------------------------------------------\n",
      " |  Data descriptors inherited from torch.nn.modules.module.Module:\n",
      " |  \n",
      " |  __dict__\n",
      " |      dictionary for instance variables (if defined)\n",
      " |  \n",
      " |  __weakref__\n",
      " |      list of weak references to the object (if defined)\n",
      " |  \n",
      " |  ----------------------------------------------------------------------\n",
      " |  Data and other attributes inherited from torch.nn.modules.module.Module:\n",
      " |  \n",
      " |  T_destination = ~T_destination\n",
      " |  \n",
      " |  __annotations__ = {'__call__': typing.Callable[..., typing.Any], '_is_...\n",
      " |  \n",
      " |  dump_patches = False\n",
      "\n"
     ]
    }
   ],
   "source": [
    "help(transforms.Pad)"
   ]
  },
  {
   "cell_type": "code",
   "execution_count": null,
   "id": "1615b52a-5a0d-4745-a961-f7ae6631464e",
   "metadata": {},
   "outputs": [],
   "source": []
  }
 ],
 "metadata": {
  "kernelspec": {
   "display_name": "d2l",
   "language": "python",
   "name": "d2l"
  },
  "language_info": {
   "codemirror_mode": {
    "name": "ipython",
    "version": 3
   },
   "file_extension": ".py",
   "mimetype": "text/x-python",
   "name": "python",
   "nbconvert_exporter": "python",
   "pygments_lexer": "ipython3",
   "version": "3.9.19"
  }
 },
 "nbformat": 4,
 "nbformat_minor": 5
}
